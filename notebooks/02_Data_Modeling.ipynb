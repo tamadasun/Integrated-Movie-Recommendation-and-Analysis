{
 "cells": [
  {
   "cell_type": "markdown",
   "id": "7cb24daf-d11b-4ff7-b086-adbc42015b0b",
   "metadata": {},
   "source": [
    "use overview column to help with recommender system | doc.to.vec | gensem wrapper, etc"
   ]
  },
  {
   "cell_type": "code",
   "execution_count": null,
   "id": "b755c547-f5e9-4294-9f07-1887ab4b4803",
   "metadata": {},
   "outputs": [],
   "source": []
  }
 ],
 "metadata": {
  "kernelspec": {
   "display_name": "Python 3 (ipykernel)",
   "language": "python",
   "name": "python3"
  },
  "language_info": {
   "codemirror_mode": {
    "name": "ipython",
    "version": 3
   },
   "file_extension": ".py",
   "mimetype": "text/x-python",
   "name": "python",
   "nbconvert_exporter": "python",
   "pygments_lexer": "ipython3",
   "version": "3.11.5"
  }
 },
 "nbformat": 4,
 "nbformat_minor": 5
}
