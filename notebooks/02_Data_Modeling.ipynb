{
 "cells": [
  {
   "cell_type": "markdown",
   "id": "88dd193f-289a-4963-bee5-81dba3e4b480",
   "metadata": {},
   "source": [
    "# The Cinematic Nexus: Unveiling the Future of Movie Recommendations and Analysis\n",
    "\n",
    "by Anthony Amadasun\n",
    "\n",
    "## 1.2 Data Modeling \n",
    "\n",
    "---"
   ]
  },
  {
   "cell_type": "markdown",
   "id": "2535a88a-74b7-4222-b17b-73d7e8532032",
   "metadata": {},
   "source": [
    "### 1.2.1 Introduction\n",
    "\n",
    "\n"
   ]
  },
  {
   "cell_type": "markdown",
   "id": "c8454db7-7727-40bd-9d95-55a767dde2ff",
   "metadata": {},
   "source": [
    "In this section, the project will delve into the process of transforming and engineering the data for our movie recommendation system. Additionally, we will build and evaluate predictive models and employ data visualization techniques to gain insights into the performance and characteristics of the models."
   ]
  },
  {
   "cell_type": "markdown",
   "id": "2a1e335f-cca6-483e-bc12-8c7d355996a5",
   "metadata": {},
   "source": [
    "---\n",
    "\n",
    "#### Imports"
   ]
  },
  {
   "cell_type": "code",
   "execution_count": 1,
   "id": "608f8e5f-42f4-4d73-9644-f925b957b147",
   "metadata": {
    "tags": []
   },
   "outputs": [],
   "source": [
    "import pandas as pd\n",
    "import numpy as np\n",
    "import matplotlib.pyplot as plt\n",
    "\n",
    "from scipy.sparse import csr_matrix\n",
    "from scipy.sparse import hstack, vstack\n",
    "\n",
    "#sklearn import\n",
    "from sklearn.preprocessing import MultiLabelBinarizer, OneHotEncoder\n",
    "from sklearn.metrics.pairwise import pairwise_distances, cosine_similarity\n",
    "from sklearn.feature_extraction.text import TfidfVectorizer, CountVectorizer\n",
    "from sklearn.cluster import KMeans\n",
    "from sklearn.preprocessing import LabelEncoder\n",
    "from sklearn.metrics import silhouette_score\n",
    "\n",
    "#nltk import\n",
    "import nltk\n",
    "from nltk.corpus import wordnet\n",
    "from nltk.corpus import stopwords\n",
    "from nltk.stem import PorterStemmer, WordNetLemmatizer\n",
    "from nltk.tokenize import word_tokenize\n",
    "\n",
    "#gensim imports\n",
    "from gensim.models import Doc2Vec\n",
    "from gensim.models.doc2vec import TaggedDocument\n",
    "\n",
    "import string\n",
    "import json\n"
   ]
  },
  {
   "cell_type": "code",
   "execution_count": 2,
   "id": "9e8c39e1-bd01-4deb-befa-7b810ab8ffc3",
   "metadata": {
    "tags": []
   },
   "outputs": [],
   "source": [
    "tmdb_df = pd.read_csv('../data/tmdb_data.csv')"
   ]
  },
  {
   "cell_type": "code",
   "execution_count": 3,
   "id": "218b3add-203a-475c-bcf2-e559be6a0541",
   "metadata": {
    "tags": []
   },
   "outputs": [
    {
     "data": {
      "text/html": [
       "<div>\n",
       "<style scoped>\n",
       "    .dataframe tbody tr th:only-of-type {\n",
       "        vertical-align: middle;\n",
       "    }\n",
       "\n",
       "    .dataframe tbody tr th {\n",
       "        vertical-align: top;\n",
       "    }\n",
       "\n",
       "    .dataframe thead th {\n",
       "        text-align: right;\n",
       "    }\n",
       "</style>\n",
       "<table border=\"1\" class=\"dataframe\">\n",
       "  <thead>\n",
       "    <tr style=\"text-align: right;\">\n",
       "      <th></th>\n",
       "      <th>adult</th>\n",
       "      <th>backdrop_path</th>\n",
       "      <th>genre_ids</th>\n",
       "      <th>id</th>\n",
       "      <th>original_language</th>\n",
       "      <th>original_title</th>\n",
       "      <th>overview</th>\n",
       "      <th>popularity</th>\n",
       "      <th>poster_path</th>\n",
       "      <th>release_date</th>\n",
       "      <th>...</th>\n",
       "      <th>vote_average</th>\n",
       "      <th>vote_count</th>\n",
       "      <th>directors</th>\n",
       "      <th>cast</th>\n",
       "      <th>popularity_normalized</th>\n",
       "      <th>vote_count_normalized</th>\n",
       "      <th>vote_average_normalized</th>\n",
       "      <th>genre_names</th>\n",
       "      <th>release_year</th>\n",
       "      <th>genre_ids_str</th>\n",
       "    </tr>\n",
       "  </thead>\n",
       "  <tbody>\n",
       "    <tr>\n",
       "      <th>0</th>\n",
       "      <td>False</td>\n",
       "      <td>/pWsD91G2R1Da3AKM3ymr3UoIfRb.jpg</td>\n",
       "      <td>[878, 28, 18]</td>\n",
       "      <td>933131</td>\n",
       "      <td>ko</td>\n",
       "      <td>황야</td>\n",
       "      <td>After a deadly earthquake turns Seoul into a l...</td>\n",
       "      <td>3228.455</td>\n",
       "      <td>/24CL0ySodCF8bcm38xtBeHzHp7W.jpg</td>\n",
       "      <td>2024-01-26</td>\n",
       "      <td>...</td>\n",
       "      <td>6.942</td>\n",
       "      <td>286</td>\n",
       "      <td>Heo Myeong-haeng</td>\n",
       "      <td>Ma Dong-seok, Lee Hee-jun, Lee Jun-young, Roh ...</td>\n",
       "      <td>1.000000</td>\n",
       "      <td>0.008118</td>\n",
       "      <td>0.6942</td>\n",
       "      <td>['Science Fiction', 'Action', 'Drama']</td>\n",
       "      <td>2024.0</td>\n",
       "      <td>['Science Fiction', 'Action', 'Drama']</td>\n",
       "    </tr>\n",
       "    <tr>\n",
       "      <th>1</th>\n",
       "      <td>False</td>\n",
       "      <td>/unvtbkgxh47BewQ8pENvdOdme0r.jpg</td>\n",
       "      <td>[28, 18]</td>\n",
       "      <td>1212073</td>\n",
       "      <td>de</td>\n",
       "      <td>60 Minuten</td>\n",
       "      <td>Desperate to keep custody of his daughter, a m...</td>\n",
       "      <td>2041.947</td>\n",
       "      <td>/aajCqg315CoJPu1NmgPCkbRjnl6.jpg</td>\n",
       "      <td>2024-01-19</td>\n",
       "      <td>...</td>\n",
       "      <td>7.092</td>\n",
       "      <td>251</td>\n",
       "      <td>Oliver Kienle</td>\n",
       "      <td>Emilio Sakraya, Dennis Mojen, Marie Mouroum, F...</td>\n",
       "      <td>0.630926</td>\n",
       "      <td>0.007125</td>\n",
       "      <td>0.7092</td>\n",
       "      <td>['Action', 'Drama']</td>\n",
       "      <td>2024.0</td>\n",
       "      <td>['Action', 'Drama']</td>\n",
       "    </tr>\n",
       "    <tr>\n",
       "      <th>2</th>\n",
       "      <td>False</td>\n",
       "      <td>/yyFc8Iclt2jxPmLztbP617xXllT.jpg</td>\n",
       "      <td>[35, 10751, 14]</td>\n",
       "      <td>787699</td>\n",
       "      <td>en</td>\n",
       "      <td>Wonka</td>\n",
       "      <td>Willy Wonka – chock-full of ideas and determin...</td>\n",
       "      <td>1758.657</td>\n",
       "      <td>/qhb1qOilapbapxWQn9jtRCMwXJF.jpg</td>\n",
       "      <td>2023-12-06</td>\n",
       "      <td>...</td>\n",
       "      <td>7.218</td>\n",
       "      <td>2018</td>\n",
       "      <td>Paul King</td>\n",
       "      <td>Timothée Chalamet, Calah Lane, Keegan-Michael ...</td>\n",
       "      <td>0.542807</td>\n",
       "      <td>0.057281</td>\n",
       "      <td>0.7218</td>\n",
       "      <td>['Comedy', 'Family', 'Fantasy']</td>\n",
       "      <td>2023.0</td>\n",
       "      <td>['Comedy', 'Family', 'Fantasy']</td>\n",
       "    </tr>\n",
       "    <tr>\n",
       "      <th>3</th>\n",
       "      <td>False</td>\n",
       "      <td>/criPrxkTggCra1jch49jsiSeXo1.jpg</td>\n",
       "      <td>[878, 12, 28]</td>\n",
       "      <td>609681</td>\n",
       "      <td>en</td>\n",
       "      <td>The Marvels</td>\n",
       "      <td>Carol Danvers, aka Captain Marvel, has reclaim...</td>\n",
       "      <td>1634.973</td>\n",
       "      <td>/9GBhzXMFjgcZ3FdR9w3bUMMTps5.jpg</td>\n",
       "      <td>2023-11-08</td>\n",
       "      <td>...</td>\n",
       "      <td>6.309</td>\n",
       "      <td>1576</td>\n",
       "      <td>Nia DaCosta</td>\n",
       "      <td>Brie Larson, Teyonah Parris, Iman Vellani, Zaw...</td>\n",
       "      <td>0.504334</td>\n",
       "      <td>0.044735</td>\n",
       "      <td>0.6309</td>\n",
       "      <td>['Science Fiction', 'Adventure', 'Action']</td>\n",
       "      <td>2023.0</td>\n",
       "      <td>['Science Fiction', 'Adventure', 'Action']</td>\n",
       "    </tr>\n",
       "    <tr>\n",
       "      <th>4</th>\n",
       "      <td>False</td>\n",
       "      <td>/4MCKNAc6AbWjEsM2h9Xc29owo4z.jpg</td>\n",
       "      <td>[28, 53, 18]</td>\n",
       "      <td>866398</td>\n",
       "      <td>en</td>\n",
       "      <td>The Beekeeper</td>\n",
       "      <td>One man’s campaign for vengeance takes on nati...</td>\n",
       "      <td>1451.512</td>\n",
       "      <td>/A7EByudX0eOzlkQ2FIbogzyazm2.jpg</td>\n",
       "      <td>2024-01-10</td>\n",
       "      <td>...</td>\n",
       "      <td>7.304</td>\n",
       "      <td>995</td>\n",
       "      <td>David Ayer</td>\n",
       "      <td>Jason Statham, Emmy Raver-Lampman, Bobby Nader...</td>\n",
       "      <td>0.447267</td>\n",
       "      <td>0.028243</td>\n",
       "      <td>0.7304</td>\n",
       "      <td>['Action', 'Thriller', 'Drama']</td>\n",
       "      <td>2024.0</td>\n",
       "      <td>['Action', 'Thriller', 'Drama']</td>\n",
       "    </tr>\n",
       "  </tbody>\n",
       "</table>\n",
       "<p>5 rows × 22 columns</p>\n",
       "</div>"
      ],
      "text/plain": [
       "   adult                     backdrop_path        genre_ids       id  \\\n",
       "0  False  /pWsD91G2R1Da3AKM3ymr3UoIfRb.jpg    [878, 28, 18]   933131   \n",
       "1  False  /unvtbkgxh47BewQ8pENvdOdme0r.jpg         [28, 18]  1212073   \n",
       "2  False  /yyFc8Iclt2jxPmLztbP617xXllT.jpg  [35, 10751, 14]   787699   \n",
       "3  False  /criPrxkTggCra1jch49jsiSeXo1.jpg    [878, 12, 28]   609681   \n",
       "4  False  /4MCKNAc6AbWjEsM2h9Xc29owo4z.jpg     [28, 53, 18]   866398   \n",
       "\n",
       "  original_language original_title  \\\n",
       "0                ko             황야   \n",
       "1                de     60 Minuten   \n",
       "2                en          Wonka   \n",
       "3                en    The Marvels   \n",
       "4                en  The Beekeeper   \n",
       "\n",
       "                                            overview  popularity  \\\n",
       "0  After a deadly earthquake turns Seoul into a l...    3228.455   \n",
       "1  Desperate to keep custody of his daughter, a m...    2041.947   \n",
       "2  Willy Wonka – chock-full of ideas and determin...    1758.657   \n",
       "3  Carol Danvers, aka Captain Marvel, has reclaim...    1634.973   \n",
       "4  One man’s campaign for vengeance takes on nati...    1451.512   \n",
       "\n",
       "                        poster_path release_date  ... vote_average  \\\n",
       "0  /24CL0ySodCF8bcm38xtBeHzHp7W.jpg   2024-01-26  ...        6.942   \n",
       "1  /aajCqg315CoJPu1NmgPCkbRjnl6.jpg   2024-01-19  ...        7.092   \n",
       "2  /qhb1qOilapbapxWQn9jtRCMwXJF.jpg   2023-12-06  ...        7.218   \n",
       "3  /9GBhzXMFjgcZ3FdR9w3bUMMTps5.jpg   2023-11-08  ...        6.309   \n",
       "4  /A7EByudX0eOzlkQ2FIbogzyazm2.jpg   2024-01-10  ...        7.304   \n",
       "\n",
       "   vote_count         directors  \\\n",
       "0         286  Heo Myeong-haeng   \n",
       "1         251     Oliver Kienle   \n",
       "2        2018         Paul King   \n",
       "3        1576       Nia DaCosta   \n",
       "4         995        David Ayer   \n",
       "\n",
       "                                                cast popularity_normalized  \\\n",
       "0  Ma Dong-seok, Lee Hee-jun, Lee Jun-young, Roh ...              1.000000   \n",
       "1  Emilio Sakraya, Dennis Mojen, Marie Mouroum, F...              0.630926   \n",
       "2  Timothée Chalamet, Calah Lane, Keegan-Michael ...              0.542807   \n",
       "3  Brie Larson, Teyonah Parris, Iman Vellani, Zaw...              0.504334   \n",
       "4  Jason Statham, Emmy Raver-Lampman, Bobby Nader...              0.447267   \n",
       "\n",
       "  vote_count_normalized  vote_average_normalized  \\\n",
       "0              0.008118                   0.6942   \n",
       "1              0.007125                   0.7092   \n",
       "2              0.057281                   0.7218   \n",
       "3              0.044735                   0.6309   \n",
       "4              0.028243                   0.7304   \n",
       "\n",
       "                                  genre_names  release_year  \\\n",
       "0      ['Science Fiction', 'Action', 'Drama']        2024.0   \n",
       "1                         ['Action', 'Drama']        2024.0   \n",
       "2             ['Comedy', 'Family', 'Fantasy']        2023.0   \n",
       "3  ['Science Fiction', 'Adventure', 'Action']        2023.0   \n",
       "4             ['Action', 'Thriller', 'Drama']        2024.0   \n",
       "\n",
       "                                genre_ids_str  \n",
       "0      ['Science Fiction', 'Action', 'Drama']  \n",
       "1                         ['Action', 'Drama']  \n",
       "2             ['Comedy', 'Family', 'Fantasy']  \n",
       "3  ['Science Fiction', 'Adventure', 'Action']  \n",
       "4             ['Action', 'Thriller', 'Drama']  \n",
       "\n",
       "[5 rows x 22 columns]"
      ]
     },
     "execution_count": 3,
     "metadata": {},
     "output_type": "execute_result"
    }
   ],
   "source": [
    "tmdb_df.head()"
   ]
  },
  {
   "cell_type": "markdown",
   "id": "2a7e3f9f-6f17-4983-a939-59065732c1d7",
   "metadata": {},
   "source": [
    "### 1.2.2 Data Transformation/Engineering\n",
    "\n",
    "**Deliverables:**\n",
    "- Feature Engineering: Create new features that might enhance the predictive power of the models, such as extracting information from actors amd directors.\n",
    "- Handle Sparse Data: Address potential sparsity issues in user-item interaction matrices, as sparse data can impact collaborative filtering models.\n",
    "- Encoding: Encode categorical features, ensuring all data is in a format suitable for modeling.\n",
    "\n",
    "---"
   ]
  },
  {
   "cell_type": "markdown",
   "id": "78a4de5c-06ab-4056-9e0f-caa17190a7bb",
   "metadata": {},
   "source": [
    "**Feature Engineering**\n",
    "\n",
    "Create columns that looks at the influences of lead actors/actress and Director popularity"
   ]
  },
  {
   "cell_type": "code",
   "execution_count": 4,
   "id": "36c1e04c-0c0f-4e47-b7cf-b71d80fb45dc",
   "metadata": {
    "tags": []
   },
   "outputs": [],
   "source": [
    "# Define a function to extract the lead actor from the comma-separated list\n",
    "def extract_lead_actor(x):\n",
    "    try:\n",
    "        if not pd.isna(x): #Check if the value is non NaN\n",
    "            cast_list = x.split(', ')\n",
    "            return cast_list[0] if cast_list else None\n",
    "        else:\n",
    "            return None\n",
    "    except Exception as e:\n",
    "        print(f\"Error extracting lead actor: {e}\")\n",
    "        return None\n",
    "\n",
    "# Apply the function to create the lead_actor column\n",
    "tmdb_df['lead_actor'] = tmdb_df['cast'].apply(extract_lead_actor)\n",
    "\n",
    "# Calculate the average user rating for movies featuring each lead actor\n",
    "actor_avg_rating = tmdb_df.groupby('lead_actor')['vote_average'].mean().reset_index()\n",
    "actor_avg_rating.rename(columns={'vote_average': 'lead_actor_avg_rating'}, inplace=True)\n",
    "\n",
    "# Merge the actor average ratings back to df\n",
    "tmdb_df = pd.merge(tmdb_df, actor_avg_rating, how='left', on='lead_actor')\n"
   ]
  },
  {
   "cell_type": "code",
   "execution_count": 5,
   "id": "fe75fca2-2690-4030-b4e7-7a8282a09fc0",
   "metadata": {
    "tags": []
   },
   "outputs": [],
   "source": [
    "def extract_director(x):\n",
    "    try:\n",
    "        if pd.notna(x):  # Check if the value is not NaN\n",
    "            directors_list = json.loads(x)\n",
    "            if directors_list:\n",
    "                return directors_list[0]['name']\n",
    "    except (json.JSONDecodeError, KeyError, IndexError):\n",
    "        pass  # Handle errors by returning None or any default value\n",
    "    return None\n"
   ]
  },
  {
   "cell_type": "code",
   "execution_count": 6,
   "id": "fb60e310-7393-4914-b912-5e081ec8531d",
   "metadata": {
    "tags": []
   },
   "outputs": [],
   "source": [
    "# Create the single director column by extracting the first director name\n",
    "tmdb_df['director'] = tmdb_df['directors'].apply(lambda x: x.split(',')[0] if pd.notna(x) else None)\n",
    "\n",
    "# Calculate the average user rating for movies directed by each director\n",
    "director_avg_rating = tmdb_df.groupby('director')['vote_average'].mean().reset_index()\n",
    "director_avg_rating.rename(columns={'vote_average': 'director_avg_rating'}, inplace=True)\n",
    "\n",
    "# Merge the director average ratings to df\n",
    "tmdb_df = pd.merge(tmdb_df, director_avg_rating, how='left', on='director')\n"
   ]
  },
  {
   "cell_type": "code",
   "execution_count": null,
   "id": "eee873c9-677e-40dd-ac55-6f8823ff2252",
   "metadata": {
    "tags": []
   },
   "outputs": [],
   "source": []
  },
  {
   "cell_type": "markdown",
   "id": "4e43aead-162f-41aa-9499-b2fe25f1de1c",
   "metadata": {},
   "source": [
    "**Handling Sparse Data and Encoding**"
   ]
  },
  {
   "cell_type": "code",
   "execution_count": 7,
   "id": "01b20c4c-74e0-4a65-a4a9-ece56f274234",
   "metadata": {
    "tags": []
   },
   "outputs": [],
   "source": [
    "# Convert the genre_ids_str column to a list of lists\n",
    "tmdb_df['genre_ids_str'] = tmdb_df['genre_ids_str'].apply(eval)"
   ]
  },
  {
   "cell_type": "code",
   "execution_count": 8,
   "id": "8e9e3300-fde5-4677-893f-fb2dac97654d",
   "metadata": {
    "tags": []
   },
   "outputs": [],
   "source": [
    "# Use MultiLabelBinarizer to one-hot encode the genre_ids_str column\n",
    "mlb = MultiLabelBinarizer()\n",
    "genre_encoded = pd.DataFrame(mlb.fit_transform(tmdb_df['genre_ids_str']), columns=mlb.classes_, index=tmdb_df.index)"
   ]
  },
  {
   "cell_type": "code",
   "execution_count": 9,
   "id": "3e311816-85bd-4451-97c7-5f8712492815",
   "metadata": {
    "tags": []
   },
   "outputs": [],
   "source": [
    "# Concatenate the one-hot encoded genres with the original DataFrame\n",
    "tmdb_df = pd.concat([tmdb_df, genre_encoded], axis=1)"
   ]
  },
  {
   "cell_type": "code",
   "execution_count": 10,
   "id": "435fb049-800f-456c-a3b0-1bd8ca2078e1",
   "metadata": {
    "tags": []
   },
   "outputs": [],
   "source": [
    "# Drop the original genre_ids_str column\n",
    "tmdb_df = tmdb_df.drop('genre_ids_str', axis=1)"
   ]
  },
  {
   "cell_type": "code",
   "execution_count": 11,
   "id": "6bbaf65c-e7ec-42f6-8815-91dd96dca730",
   "metadata": {
    "tags": []
   },
   "outputs": [],
   "source": [
    "# Preparing data for building a recommendation system \n",
    "# by handling sparsity and creating a sparse matrix for \n",
    "# Collaborative filtering methods\n",
    "interaction_data = tmdb_df[['popularity_normalized', 'vote_average_normalized', \n",
    "                            'vote_count_normalized', 'release_year', 'lead_actor_avg_rating',\n",
    "                           'director_avg_rating'] + list(mlb.classes_)]"
   ]
  },
  {
   "cell_type": "code",
   "execution_count": 12,
   "id": "cf0bbda3-34fd-4ee9-9d41-d1d94b10dee0",
   "metadata": {
    "tags": []
   },
   "outputs": [
    {
     "data": {
      "text/plain": [
       "popularity_normalized      float64\n",
       "vote_average_normalized    float64\n",
       "vote_count_normalized      float64\n",
       "release_year               float64\n",
       "lead_actor_avg_rating      float64\n",
       "director_avg_rating        float64\n",
       "Action                       int64\n",
       "Adventure                    int64\n",
       "Animation                    int64\n",
       "Comedy                       int64\n",
       "Crime                        int64\n",
       "Documentary                  int64\n",
       "Drama                        int64\n",
       "Family                       int64\n",
       "Fantasy                      int64\n",
       "History                      int64\n",
       "Horror                       int64\n",
       "Music                        int64\n",
       "Mystery                      int64\n",
       "Romance                      int64\n",
       "Science Fiction              int64\n",
       "TV Movie                     int64\n",
       "Thriller                     int64\n",
       "War                          int64\n",
       "Western                      int64\n",
       "dtype: object"
      ]
     },
     "execution_count": 12,
     "metadata": {},
     "output_type": "execute_result"
    }
   ],
   "source": [
    "interaction_data.dtypes"
   ]
  },
  {
   "cell_type": "code",
   "execution_count": 13,
   "id": "e24aa5d6-e360-4e09-9cdc-1fbae398fcf3",
   "metadata": {},
   "outputs": [
    {
     "data": {
      "text/html": [
       "<div>\n",
       "<style scoped>\n",
       "    .dataframe tbody tr th:only-of-type {\n",
       "        vertical-align: middle;\n",
       "    }\n",
       "\n",
       "    .dataframe tbody tr th {\n",
       "        vertical-align: top;\n",
       "    }\n",
       "\n",
       "    .dataframe thead th {\n",
       "        text-align: right;\n",
       "    }\n",
       "</style>\n",
       "<table border=\"1\" class=\"dataframe\">\n",
       "  <thead>\n",
       "    <tr style=\"text-align: right;\">\n",
       "      <th></th>\n",
       "      <th>director_avg_rating</th>\n",
       "      <th>lead_actor_avg_rating</th>\n",
       "      <th>popularity_normalized</th>\n",
       "      <th>vote_average_normalized</th>\n",
       "      <th>vote_count_normalized</th>\n",
       "      <th>release_year</th>\n",
       "      <th>Action</th>\n",
       "      <th>Adventure</th>\n",
       "      <th>Animation</th>\n",
       "      <th>Comedy</th>\n",
       "      <th>...</th>\n",
       "      <th>History</th>\n",
       "      <th>Horror</th>\n",
       "      <th>Music</th>\n",
       "      <th>Mystery</th>\n",
       "      <th>Romance</th>\n",
       "      <th>Science Fiction</th>\n",
       "      <th>TV Movie</th>\n",
       "      <th>Thriller</th>\n",
       "      <th>War</th>\n",
       "      <th>Western</th>\n",
       "    </tr>\n",
       "    <tr>\n",
       "      <th>title</th>\n",
       "      <th></th>\n",
       "      <th></th>\n",
       "      <th></th>\n",
       "      <th></th>\n",
       "      <th></th>\n",
       "      <th></th>\n",
       "      <th></th>\n",
       "      <th></th>\n",
       "      <th></th>\n",
       "      <th></th>\n",
       "      <th></th>\n",
       "      <th></th>\n",
       "      <th></th>\n",
       "      <th></th>\n",
       "      <th></th>\n",
       "      <th></th>\n",
       "      <th></th>\n",
       "      <th></th>\n",
       "      <th></th>\n",
       "      <th></th>\n",
       "      <th></th>\n",
       "    </tr>\n",
       "  </thead>\n",
       "  <tbody>\n",
       "    <tr>\n",
       "      <th>Badland Hunters</th>\n",
       "      <td>6.942</td>\n",
       "      <td>7.208000</td>\n",
       "      <td>1.000000</td>\n",
       "      <td>0.6942</td>\n",
       "      <td>0.008118</td>\n",
       "      <td>2024.0</td>\n",
       "      <td>1</td>\n",
       "      <td>0</td>\n",
       "      <td>0</td>\n",
       "      <td>0</td>\n",
       "      <td>...</td>\n",
       "      <td>0</td>\n",
       "      <td>0</td>\n",
       "      <td>0</td>\n",
       "      <td>0</td>\n",
       "      <td>0</td>\n",
       "      <td>1</td>\n",
       "      <td>0</td>\n",
       "      <td>0</td>\n",
       "      <td>0</td>\n",
       "      <td>0</td>\n",
       "    </tr>\n",
       "    <tr>\n",
       "      <th>Sixty Minutes</th>\n",
       "      <td>7.092</td>\n",
       "      <td>7.092000</td>\n",
       "      <td>0.630926</td>\n",
       "      <td>0.7092</td>\n",
       "      <td>0.007125</td>\n",
       "      <td>2024.0</td>\n",
       "      <td>1</td>\n",
       "      <td>0</td>\n",
       "      <td>0</td>\n",
       "      <td>0</td>\n",
       "      <td>...</td>\n",
       "      <td>0</td>\n",
       "      <td>0</td>\n",
       "      <td>0</td>\n",
       "      <td>0</td>\n",
       "      <td>0</td>\n",
       "      <td>0</td>\n",
       "      <td>0</td>\n",
       "      <td>0</td>\n",
       "      <td>0</td>\n",
       "      <td>0</td>\n",
       "    </tr>\n",
       "    <tr>\n",
       "      <th>Wonka</th>\n",
       "      <td>7.146</td>\n",
       "      <td>6.063400</td>\n",
       "      <td>0.542807</td>\n",
       "      <td>0.7218</td>\n",
       "      <td>0.057281</td>\n",
       "      <td>2023.0</td>\n",
       "      <td>0</td>\n",
       "      <td>0</td>\n",
       "      <td>0</td>\n",
       "      <td>1</td>\n",
       "      <td>...</td>\n",
       "      <td>0</td>\n",
       "      <td>0</td>\n",
       "      <td>0</td>\n",
       "      <td>0</td>\n",
       "      <td>0</td>\n",
       "      <td>0</td>\n",
       "      <td>0</td>\n",
       "      <td>0</td>\n",
       "      <td>0</td>\n",
       "      <td>0</td>\n",
       "    </tr>\n",
       "    <tr>\n",
       "      <th>The Marvels</th>\n",
       "      <td>6.171</td>\n",
       "      <td>5.979667</td>\n",
       "      <td>0.504334</td>\n",
       "      <td>0.6309</td>\n",
       "      <td>0.044735</td>\n",
       "      <td>2023.0</td>\n",
       "      <td>1</td>\n",
       "      <td>1</td>\n",
       "      <td>0</td>\n",
       "      <td>0</td>\n",
       "      <td>...</td>\n",
       "      <td>0</td>\n",
       "      <td>0</td>\n",
       "      <td>0</td>\n",
       "      <td>0</td>\n",
       "      <td>0</td>\n",
       "      <td>1</td>\n",
       "      <td>0</td>\n",
       "      <td>0</td>\n",
       "      <td>0</td>\n",
       "      <td>0</td>\n",
       "    </tr>\n",
       "    <tr>\n",
       "      <th>The Beekeeper</th>\n",
       "      <td>6.641</td>\n",
       "      <td>6.581368</td>\n",
       "      <td>0.447267</td>\n",
       "      <td>0.7304</td>\n",
       "      <td>0.028243</td>\n",
       "      <td>2024.0</td>\n",
       "      <td>1</td>\n",
       "      <td>0</td>\n",
       "      <td>0</td>\n",
       "      <td>0</td>\n",
       "      <td>...</td>\n",
       "      <td>0</td>\n",
       "      <td>0</td>\n",
       "      <td>0</td>\n",
       "      <td>0</td>\n",
       "      <td>0</td>\n",
       "      <td>0</td>\n",
       "      <td>0</td>\n",
       "      <td>1</td>\n",
       "      <td>0</td>\n",
       "      <td>0</td>\n",
       "    </tr>\n",
       "  </tbody>\n",
       "</table>\n",
       "<p>5 rows × 25 columns</p>\n",
       "</div>"
      ],
      "text/plain": [
       "                 director_avg_rating  lead_actor_avg_rating  \\\n",
       "title                                                         \n",
       "Badland Hunters                6.942               7.208000   \n",
       "Sixty Minutes                  7.092               7.092000   \n",
       "Wonka                          7.146               6.063400   \n",
       "The Marvels                    6.171               5.979667   \n",
       "The Beekeeper                  6.641               6.581368   \n",
       "\n",
       "                 popularity_normalized  vote_average_normalized  \\\n",
       "title                                                             \n",
       "Badland Hunters               1.000000                   0.6942   \n",
       "Sixty Minutes                 0.630926                   0.7092   \n",
       "Wonka                         0.542807                   0.7218   \n",
       "The Marvels                   0.504334                   0.6309   \n",
       "The Beekeeper                 0.447267                   0.7304   \n",
       "\n",
       "                 vote_count_normalized  release_year  Action  Adventure  \\\n",
       "title                                                                     \n",
       "Badland Hunters               0.008118        2024.0       1          0   \n",
       "Sixty Minutes                 0.007125        2024.0       1          0   \n",
       "Wonka                         0.057281        2023.0       0          0   \n",
       "The Marvels                   0.044735        2023.0       1          1   \n",
       "The Beekeeper                 0.028243        2024.0       1          0   \n",
       "\n",
       "                 Animation  Comedy  ...  History  Horror  Music  Mystery  \\\n",
       "title                               ...                                    \n",
       "Badland Hunters          0       0  ...        0       0      0        0   \n",
       "Sixty Minutes            0       0  ...        0       0      0        0   \n",
       "Wonka                    0       1  ...        0       0      0        0   \n",
       "The Marvels              0       0  ...        0       0      0        0   \n",
       "The Beekeeper            0       0  ...        0       0      0        0   \n",
       "\n",
       "                 Romance  Science Fiction  TV Movie  Thriller  War  Western  \n",
       "title                                                                        \n",
       "Badland Hunters        0                1         0         0    0        0  \n",
       "Sixty Minutes          0                0         0         0    0        0  \n",
       "Wonka                  0                0         0         0    0        0  \n",
       "The Marvels            0                1         0         0    0        0  \n",
       "The Beekeeper          0                0         0         1    0        0  \n",
       "\n",
       "[5 rows x 25 columns]"
      ]
     },
     "execution_count": 13,
     "metadata": {},
     "output_type": "execute_result"
    }
   ],
   "source": [
    "# columns in the interaction_data_pivot\n",
    "interaction_data_columns = ['director_avg_rating', 'lead_actor_avg_rating', 'popularity_normalized', 'vote_average_normalized', 'vote_count_normalized', 'release_year', 'Action', 'Adventure', 'Animation', 'Comedy', 'Crime', 'Documentary', 'Drama', 'Family', 'Fantasy', 'History', 'Horror', 'Music', 'Mystery', 'Romance', 'Science Fiction', 'TV Movie', 'Thriller', 'War', 'Western']\n",
    "\n",
    "# title as index and  the desired columns\n",
    "interaction_data_pivot = tmdb_df.set_index('title')[interaction_data_columns]\n",
    "\n",
    "interaction_data_pivot.head()\n"
   ]
  },
  {
   "cell_type": "code",
   "execution_count": 14,
   "id": "0dedd569-cb3b-4a5d-8769-9ad9ed22dbde",
   "metadata": {
    "tags": []
   },
   "outputs": [],
   "source": [
    "# Handling Sparse Data: Replace NaN values with 0\n",
    "interaction_matrix = interaction_data.fillna(0)"
   ]
  },
  {
   "cell_type": "code",
   "execution_count": 15,
   "id": "190ead2a-e4c8-41ef-bd98-449121a942d8",
   "metadata": {
    "tags": []
   },
   "outputs": [],
   "source": [
    "#convert into sparse matrix using csr_matrix\n",
    "sparse_interaction_matrix = csr_matrix(interaction_matrix.values)"
   ]
  },
  {
   "cell_type": "code",
   "execution_count": 16,
   "id": "780ad95c-40d1-4a2a-a700-14192d811ca0",
   "metadata": {},
   "outputs": [],
   "source": [
    "# Calculate cosine similarity using sparse matrix\n",
    "sparse_distances = pairwise_distances(sparse_interaction_matrix, metric='cosine')\n",
    "sparse_cosine_similarities = 1.0 - sparse_distances\n"
   ]
  },
  {
   "cell_type": "markdown",
   "id": "e0744f6e-a99c-4bf7-b4f8-bfb95eac3b47",
   "metadata": {},
   "source": [
    "### 1.2.3 Data Modeling and Visualization\n",
    "\n",
    "\n",
    "**Data Modeling Deliverables:**\n",
    "\n",
    "- Collaborative Filtering: Implement collaborative filtering techniques to make movie recommendations based on user preferences and similarities between users or items.\n",
    "- Content-Based Filtering: Apply content-based filtering approaches to recommend movies based on their features, such as overview, cast, or director and nlp technique.\n",
    "- K-Means model: Apply content-based genre clustering for improved recommendation accuracy.\n",
    "\n",
    "**Data Visualization Deliverables:**\n",
    "\n",
    "- Model Evaluation: Visualize the performance of different recommendation models and showcase Silhouette and Inertia Scores.\n",
    "- Feature Importance: Gain insights into the importance of different features in the models through visualizations, aiding in model interpretation.\n",
    "- User-Item Interaction: Visualize patterns in user-item interaction matrices to understand user preferences and item popularity.\n",
    "\n",
    "---"
   ]
  },
  {
   "cell_type": "markdown",
   "id": "61e67dc0-347e-4082-986b-649c03d29535",
   "metadata": {},
   "source": [
    "**Collaborative Filtering**\n",
    "\n",
    "- Created an interaction matrix \n",
    "- Apply collaborative filtering using cosine similarity on interaction_data_pivot\n",
    "- item_similarity_matrix will then be used to recommend movies for a given input movie using the get_movie_recommendations function.\n",
    "- create an iteractive recommendation function that allow users to input their favorite movie and receive recommendations based on their preferences."
   ]
  },
  {
   "cell_type": "code",
   "execution_count": 17,
   "id": "047b1a55-3d6f-4e89-b502-fb238560398c",
   "metadata": {
    "tags": []
   },
   "outputs": [],
   "source": [
    "def recommend_based_on_user_preference(user_preference, tmdb_df):\n",
    "    # Split user input\n",
    "    preferences = [preference.strip() for preference in user_preference.split(',')]\n",
    "\n",
    "    # Filter movies based on user preferences in directors and cast columns\n",
    "    filtered_movies = tmdb_df[\n",
    "        tmdb_df['directors'].apply(lambda x: any(pref.lower() in str(x).lower() for pref in preferences)) |\n",
    "        tmdb_df['cast'].apply(lambda x: any(pref.lower() in str(x).lower() for pref in preferences))\n",
    "    ]\n",
    "\n",
    "    # Sort movies by popularity (can change for other metric)\n",
    "    sorted_movies = filtered_movies.sort_values(by='popularity_normalized', ascending=False)\n",
    "\n",
    "    # Extract recommended movie titles\n",
    "    recommended_movies = sorted_movies['title'].tolist()\n",
    "\n",
    "    return recommended_movies\n"
   ]
  },
  {
   "cell_type": "code",
   "execution_count": 18,
   "id": "3dd188f2-514e-43af-82c2-170d0dccd9ba",
   "metadata": {},
   "outputs": [],
   "source": [
    "item_similarity = cosine_similarity(sparse_interaction_matrix.T, dense_output=False)\n",
    "# interaction_data_pivot is user interaction data\n",
    "item_similarity_matrix = cosine_similarity(interaction_data_pivot.fillna(0))\n",
    "\n",
    "# Function to get movie recommendations based on item similarity\n",
    "def get_movie_recommendations(movie_title, item_similarity_matrix, interaction_data_pivot):\n",
    "    \"\"\"\n",
    "    This function takes a movie title, an item similarity matrix, and a interaction_data_pivot as input.\n",
    "    It returns a list of movie recommendations based on the item similarity of the input movie.\n",
    "    \n",
    "    - movie_title (str): The title of the movie for which recommendations are requested.\n",
    "    - item_similarity_matrix (numpy.ndarray): The item similarity matrix, computed using collaborative filtering\n",
    "      (e.g., cosine similarity on the interaction_data_pivot ).\n",
    "    - interaction_data_pivot (pd.DataFrame): The user-item interaction matrix where rows represent movies, and columns represent various features\n",
    "      like 'director_avg_rating', 'lead_actor_avg_rating', 'popularity_normalized', 'vote_average_normalized', 'vote_count_normalized', 'release_year', and genre indicators.\n",
    "      The values represent movie features or characteristics.\n",
    "    \n",
    "    Returns:\n",
    "    List[str]: A list of recommended movies based on item similarity. \n",
    "    The list is sorted in descending order of similarity.\n",
    "      \n",
    "    \"\"\"\n",
    "    if movie_title in interaction_data_pivot.index:\n",
    "        similar_scores = item_similarity_matrix[interaction_data_pivot.index.get_loc(movie_title)]\n",
    "        similar_movies = list(interaction_data_pivot.index[np.argsort(similar_scores)[::-1]])\n",
    "        return similar_movies[1:]  # Exclude the input movie itself\n",
    "    else:\n",
    "        print(f\"Movie '{movie_title}' not found in the dataset.\")\n",
    "        user_preference = input(\"Enter your preferred actor, genre, or other relevant information: \")\n",
    "        # Perform recommendation based on user's additional input\n",
    "        recommendations = recommend_based_on_user_preference(user_preference, tmdb_df)\n",
    "        return recommendations\n"
   ]
  },
  {
   "cell_type": "code",
   "execution_count": 19,
   "id": "047a0553-24a8-4d21-b762-5a9c6a369aa8",
   "metadata": {
    "tags": []
   },
   "outputs": [],
   "source": [
    "def interactive_movie_recommendation(tmdb_df):\n",
    "    \"\"\"\n",
    "    This function allows users to input their favorite movie and receive recommendations\n",
    "    based on their preferences,including genre, director, actor/actress, and release year range.\n",
    "    \n",
    "    Parameters:\n",
    "    - tmdb_df (pd.DataFrame): DataFrame containing movie data, including columns like 'title', 'genre_names', 'directors',\n",
    "    'cast', 'release_year', 'popularity_normalized', and others.\n",
    "    \n",
    "    Returns:\n",
    "    None\n",
    "    \n",
    "    Note: The function utlizes the 'get_movie_recommendations' function, and the 'item_similarity_matrix' computed\n",
    "    using collaborative filtering (e.g., cosine similarity on the item interaction matrix).\n",
    "    \n",
    "    Example usage:\n",
    "    interactive_movie_recommendation(tmdb_df)\n",
    "    \"\"\"\n",
    "    while True:\n",
    "        # Prompt the user to enter their favorite movie\n",
    "        user_input_movie = input(\"Enter your favorite movie: \")\n",
    "\n",
    "        # Check if the movie exists in the dataset\n",
    "        matching_movies = tmdb_df[tmdb_df['title'].str.lower() == user_input_movie.lower()]\n",
    "\n",
    "        if not matching_movies.empty:\n",
    "            # If the movie is found, recommend similar movies\n",
    "            recommended_movies = get_movie_recommendations(user_input_movie, item_similarity_matrix, interaction_data_pivot)\n",
    "            print(f\"\\nHere are some recommendations based on '{user_input_movie}':\")\n",
    "            print(recommended_movies[:5])\n",
    "        else:\n",
    "            print(f\"Movie '{user_input_movie}' not found in the dataset.\")\n",
    "            print(\"Let's try to find recommendations based on your preferences.\")\n",
    "\n",
    "            while True:\n",
    "                # Prompt the user for their favorite genre, director, or actor/actress\n",
    "                user_preference = input(\"Enter your favorite genre, director, or actor/actress: \")\n",
    "\n",
    "                # Prompt the user for the desired release year range\n",
    "                start_year = int(input(\"Enter the starting year: \"))\n",
    "                end_year = int(input(\"Enter the ending year: \"))\n",
    "\n",
    "                # Filter movies based on user preferences and release year range\n",
    "                filtered_movies = tmdb_df[\n",
    "                    (tmdb_df['genre_names'].apply(lambda x: user_preference.lower() in str(x).lower())) |\n",
    "                    (tmdb_df['directors'].apply(lambda x: user_preference.lower() in str(x).lower())) |\n",
    "                    (tmdb_df['cast'].apply(lambda x: user_preference.lower() in str(x).lower())) &\n",
    "                    (tmdb_df['release_year'].between(start_year, end_year))\n",
    "                ]\n",
    "                print(\"Filtered Movies:\")\n",
    "                print(filtered_movies[['title', 'release_year']])\n",
    "\n",
    "\n",
    "                # Sort movies by popularity\n",
    "                sorted_movies = filtered_movies.sort_values(by='popularity_normalized', ascending=False)\n",
    "\n",
    "                # Extract recommended movie titles\n",
    "                recommended_movies = sorted_movies['title'].tolist()\n",
    "\n",
    "                if not recommended_movies:\n",
    "                    print(\"No movies found based on your preferences.\")\n",
    "                    break\n",
    "\n",
    "                print(f\"\\nHere are some recommendations based on your preferences:\")\n",
    "                print(recommended_movies[:5])\n",
    "\n",
    "                # user feedback\n",
    "                user_feedback = input(\"Do these movies appeal to you? (yes/no): \").lower()\n",
    "\n",
    "                if user_feedback == 'yes':\n",
    "                    print(\"Great! Enjoy watching.\")\n",
    "                    return\n",
    "                elif user_feedback == 'no':\n",
    "                    print(\"Let's try refining your preferences.\")\n",
    "                    continue\n",
    "                else:\n",
    "                    print(\"Invalid input. Please enter 'yes' or 'no'.\")\n",
    "                    continue\n",
    "\n",
    "        #user feedback\n",
    "        user_feedback = input(\"Do these movies appeal to you? (yes/no): \").lower()\n",
    "\n",
    "        if user_feedback == 'yes':\n",
    "            print(\"Great! Enjoy watching.\")\n",
    "            break\n",
    "        elif user_feedback == 'no':\n",
    "            print(\"Sorry to hear that. Let's try refining your preferences.\")\n",
    "            continue\n",
    "        else:\n",
    "            print(\"Invalid input. Please enter 'yes' or 'no'.\")\n",
    "            continue\n"
   ]
  },
  {
   "cell_type": "code",
   "execution_count": 20,
   "id": "0c1a2c1e-e6b8-40db-9818-867e10dc94fb",
   "metadata": {
    "tags": []
   },
   "outputs": [
    {
     "name": "stdin",
     "output_type": "stream",
     "text": [
      "Enter your favorite movie:  Wonka\n"
     ]
    },
    {
     "name": "stdout",
     "output_type": "stream",
     "text": [
      "\n",
      "Here are some recommendations based on 'Wonka':\n",
      "['The Kid', 'How the Grinch Stole Christmas', 'How the Grinch Stole Christmas', 'Casper', \"Roald Dahl's The Witches\"]\n"
     ]
    },
    {
     "name": "stdin",
     "output_type": "stream",
     "text": [
      "Do these movies appeal to you? (yes/no):  yes\n"
     ]
    },
    {
     "name": "stdout",
     "output_type": "stream",
     "text": [
      "Great! Enjoy watching.\n"
     ]
    }
   ],
   "source": [
    "# resulting interaction prompt\n",
    "interactive_movie_recommendation(tmdb_df)"
   ]
  },
  {
   "cell_type": "code",
   "execution_count": 21,
   "id": "9f5cebe9-1de9-4cc6-ac20-8e2f8c136a3e",
   "metadata": {
    "tags": []
   },
   "outputs": [
    {
     "name": "stdout",
     "output_type": "stream",
     "text": [
      "4906    1973.0\n",
      "Name: release_year, dtype: float64\n"
     ]
    }
   ],
   "source": [
    "american_graffiti_release_year = tmdb_df.loc[tmdb_df['title'] == 'American Graffiti', 'release_year']\n",
    "print(american_graffiti_release_year)\n"
   ]
  },
  {
   "cell_type": "markdown",
   "id": "f411a87d-d691-4f64-bc68-b305d33840f4",
   "metadata": {},
   "source": [
    "**Content Based Filtering**\n",
    "\n",
    "<ins>Text preprocessing step:</ins> \n",
    "- Lowercasing: Convert all text to lowercase to ensure consistency.\n",
    "- Tokenization: Break down the text into individual words or tokens.\n",
    "- Removing Stopwords: Exclude common words that don't carry much meaning (e.g., \"the,\" \"and,\" \"is\").\n",
    "- Removing Punctuation and Special Characters: Keep only alphanumeric characters and relevant symbols.\n",
    "- Stemming or Lemmatization: Reduce words to their base or root form for better feature representation.\n",
    "\n",
    "<ins>Feature Extraction:</ins>\n",
    "-  convert the text into numerical features (TF-IDF or Cvec)\n",
    "- combined features \n",
    "- calculated similarity\n",
    "- implement a function to get similar movies based on a given movie title."
   ]
  },
  {
   "cell_type": "code",
   "execution_count": 22,
   "id": "20e9d281-0024-4718-a938-d69703ce0a20",
   "metadata": {
    "tags": []
   },
   "outputs": [
    {
     "name": "stderr",
     "output_type": "stream",
     "text": [
      "[nltk_data] Downloading package stopwords to\n",
      "[nltk_data]     /Users/aamad_000/nltk_data...\n",
      "[nltk_data]   Package stopwords is already up-to-date!\n",
      "[nltk_data] Downloading package averaged_perceptron_tagger to\n",
      "[nltk_data]     /Users/aamad_000/nltk_data...\n",
      "[nltk_data]   Package averaged_perceptron_tagger is already up-to-\n",
      "[nltk_data]       date!\n",
      "[nltk_data] Downloading package punkt to /Users/aamad_000/nltk_data...\n",
      "[nltk_data]   Package punkt is already up-to-date!\n"
     ]
    },
    {
     "data": {
      "text/plain": [
       "True"
      ]
     },
     "execution_count": 22,
     "metadata": {},
     "output_type": "execute_result"
    }
   ],
   "source": [
    "nltk.download('stopwords')\n",
    "nltk.download('averaged_perceptron_tagger')\n",
    "nltk.download('punkt')"
   ]
  },
  {
   "cell_type": "code",
   "execution_count": 23,
   "id": "34dec715-10a9-4b38-a358-77e4d23ca361",
   "metadata": {
    "tags": []
   },
   "outputs": [],
   "source": [
    "#functions for text preprocessing \n",
    "#\n",
    "def preprocess_text(text):\n",
    "    #lowcasing\n",
    "    text = text.lower()\n",
    "    \n",
    "    #tokenization\n",
    "    tokens = word_tokenize(text)\n",
    "    \n",
    "    #removing stopwords and punctuation\n",
    "    stop_words = set(stopwords.words('english'))\n",
    "    tokens = [token for token in tokens if token.isalnum() and token not in stop_words]\n",
    "    \n",
    "    #Stemming\n",
    "    stemmer = PorterStemmer()\n",
    "    tokens = [stemmer.stem(token) for token in tokens]\n",
    "    \n",
    "    return ' '.join(tokens)\n",
    "\n",
    "def get_wordnet_pos(word):\n",
    "    tag = nltk.pos_tag([word])[0][1][0].upper()\n",
    "    tag_dict = {\"N\": wordnet.NOUN, \"V\": wordnet.VERB, \"R\": wordnet.ADV, \"J\": wordnet.ADJ}\n",
    "    return tag_dict.get(tag, wordnet.NOUN)\n",
    "\n",
    "def lemmatize_text(text):\n",
    "    \n",
    "    if pd.isnull(text):  # Check for NaN values\n",
    "        return ''\n",
    "    \n",
    "    lemmatizer = WordNetLemmatizer()\n",
    "    stop_words = set(stopwords.words('english'))\n",
    "    \n",
    "    tokens = word_tokenize(text)\n",
    "    filtered_tokens = [token.lower() for token in tokens if token.isalpha() and token.lower() not in stop_words]\n",
    "\n",
    "    lemmatized_tokens = [lemmatizer.lemmatize(token, get_wordnet_pos(token)) for token in filtered_tokens]\n",
    "    return ' '.join(lemmatized_tokens)\n"
   ]
  },
  {
   "cell_type": "code",
   "execution_count": 24,
   "id": "8aebf83f-10b3-4ffe-8c74-1a09860874fa",
   "metadata": {
    "tags": []
   },
   "outputs": [],
   "source": [
    "# overview_example = \"In a GALAXY far, far away...\"\n",
    "# preprocessed_overview = lemmatize_text(overview_example)\n",
    "# print(preprocessed_overview)"
   ]
  },
  {
   "cell_type": "markdown",
   "id": "f2b966a0-dc76-4c68-a503-47d9c07967d5",
   "metadata": {},
   "source": [
    "**convert text to numeric features**"
   ]
  },
  {
   "cell_type": "code",
   "execution_count": 25,
   "id": "ce66b25e-c492-4070-8922-249037f01544",
   "metadata": {
    "tags": []
   },
   "outputs": [],
   "source": [
    "tmdb_df['preprocessed_overview'] = tmdb_df['overview'].apply(lemmatize_text)"
   ]
  },
  {
   "cell_type": "code",
   "execution_count": 26,
   "id": "6b5596f7-30a4-4d44-befb-fd9219e4fa81",
   "metadata": {
    "tags": []
   },
   "outputs": [],
   "source": [
    "def apply_tfidf_vectorizer(data, text_column='preprocessed_overview'):\n",
    "    \"\"\"\n",
    "    Apply TfidfVectorizer to convert preprocessed text data in the specified column of the dataframe to a TF-IDF matrix.\n",
    "    \n",
    "    Parameters:\n",
    "    - data (pd.DataFrame): The input dataframe containing the column with preprocessed text data.\n",
    "    - text_column (str): The name of the column containing preprocessed text data. Default is 'preprocessed_overview'.\n",
    "    \n",
    "    Returns:\n",
    "    - tuple: A tuple showing the shape of the resulting TF-IDF matrix.\n",
    "    \"\"\"\n",
    "    # Extract the preprocessed text data\n",
    "    text_data = data[text_column].astype(str)\n",
    "    \n",
    "    # Initialize TF-IDF vectorizer\n",
    "    tfidf_vectorizer = TfidfVectorizer(stop_words='english')\n",
    "    \n",
    "    # Fit and transform the preprocessed text data to TF-IDF matrix\n",
    "    tfidf_matrix = tfidf_vectorizer.fit_transform(text_data)\n",
    "    \n",
    "    #feature_names = tfidf_vectorizer.get_feature_names_out()\n",
    "    \n",
    "    return tfidf_matrix, tfidf_vectorizer\n",
    "\n",
    "\n"
   ]
  },
  {
   "cell_type": "code",
   "execution_count": 27,
   "id": "20dc4a42-1ae0-4b0b-b9e1-8c880101a8d9",
   "metadata": {},
   "outputs": [],
   "source": [
    "def combine_features(data, tfidf_matrix):\n",
    "    \"\"\"\n",
    "    Combine TF-IDF matrix with one-hot encoded categorical features.\n",
    "\n",
    "    Parameters:\n",
    "    - data (pd.DataFrame): The input dataframe containing the necessary columns.\n",
    "    - tfidf_matrix (scipy.sparse.csr_matrix): The TF-IDF matrix obtained from preprocessed text data.\n",
    "\n",
    "    Returns:\n",
    "    - combined_matrix (scipy.sparse.csr_matrix): The combined matrix of TF-IDF and one-hot encoded categorical features.\n",
    "    \"\"\"\n",
    "    # One-Hot Encoding for categorical features like cast and director\n",
    "    categorical_features = ['cast', 'director', 'release_year']\n",
    "    one_hot_encoder = OneHotEncoder()\n",
    "    categorical_matrix = one_hot_encoder.fit_transform(data[categorical_features])\n",
    "\n",
    "    # Combine TF-IDF matrix with the one-hot encoded categorical matrix\n",
    "    combined_matrix = hstack([tfidf_matrix, categorical_matrix])\n",
    "\n",
    "    return combined_matrix\n",
    "\n"
   ]
  },
  {
   "cell_type": "code",
   "execution_count": 28,
   "id": "2db659aa-0b77-436f-832e-03c8acfd92e7",
   "metadata": {
    "tags": []
   },
   "outputs": [],
   "source": [
    "tfidf_matrix, tfidf_vectorizer = apply_tfidf_vectorizer(tmdb_df)"
   ]
  },
  {
   "cell_type": "code",
   "execution_count": 29,
   "id": "f73e2e86-2ab1-4af3-8518-30e319801438",
   "metadata": {
    "tags": []
   },
   "outputs": [],
   "source": [
    "# Combine features\n",
    "combined_features_matrix = combine_features(tmdb_df, tfidf_matrix)"
   ]
  },
  {
   "cell_type": "code",
   "execution_count": 30,
   "id": "23f697aa-71e1-4836-9baf-f523d2510391",
   "metadata": {
    "tags": []
   },
   "outputs": [
    {
     "data": {
      "text/plain": [
       "(5000, 19545)"
      ]
     },
     "execution_count": 30,
     "metadata": {},
     "output_type": "execute_result"
    }
   ],
   "source": [
    "combined_features_matrix.shape"
   ]
  },
  {
   "cell_type": "markdown",
   "id": "dc0995d4-5761-42f6-8868-c623e99a36df",
   "metadata": {},
   "source": [
    "**calculate similarity**"
   ]
  },
  {
   "cell_type": "code",
   "execution_count": 31,
   "id": "3b6f24c0-a5ff-4fc0-9649-0e325651d428",
   "metadata": {
    "tags": []
   },
   "outputs": [],
   "source": [
    "def calculate_similarity(feature_matrix):\n",
    "    \"\"\"\n",
    "    Calculate cosine similarity between movies based on their feature matrix.\n",
    "\n",
    "    Parameters:\n",
    "    - feature_matrix (scipy.sparse.csr_matrix): The feature matrix containing TF-IDF and other features.\n",
    "\n",
    "    Returns:\n",
    "    - similarity_matrix (numpy.ndarray): The cosine similarity matrix.\n",
    "    \"\"\"\n",
    "    similarity_matrix = cosine_similarity(feature_matrix, dense_output=False)\n",
    "    return similarity_matrix\n"
   ]
  },
  {
   "cell_type": "code",
   "execution_count": 32,
   "id": "39ecf678-ab57-417d-b55a-7aa981ce2247",
   "metadata": {
    "tags": []
   },
   "outputs": [],
   "source": [
    "#contain the pairwise cosine similarity scores between movies based on feature matrices\n",
    "similarity_matrix = calculate_similarity(combined_features_matrix)"
   ]
  },
  {
   "cell_type": "code",
   "execution_count": 33,
   "id": "ac7d01a0-1070-443c-be5e-7338b056afc3",
   "metadata": {
    "tags": []
   },
   "outputs": [],
   "source": [
    "def get_similar_movies(movie_title, similarity_matrix, data):\n",
    "    \"\"\"\n",
    "    Get a list of similar movies based on a given movie title.\n",
    "\n",
    "    Parameters:\n",
    "    - movie_title (str): The title of the movie.\n",
    "    - similarity_matrix (numpy.ndarray or scipy.sparse.csr_matrix): The cosine similarity matrix.\n",
    "    - data (pd.DataFrame): The input dataframe containing movie information.\n",
    "\n",
    "    Returns:\n",
    "    - similar_movies (list): A list of similar movies.\n",
    "    \"\"\"\n",
    "    movie_index = data[data['title'].str.lower() == movie_title.lower()].index[0]\n",
    "\n",
    "    if isinstance(similarity_matrix, csr_matrix):\n",
    "        similarity_matrix = similarity_matrix.toarray()\n",
    "\n",
    "    similar_scores = similarity_matrix[movie_index]\n",
    "    similar_movie_indices = similar_scores.argsort()[::-1][1:]  # Exclude the input movie itself\n",
    "    similar_movies = data.iloc[similar_movie_indices]['title'].tolist()\n",
    "    return similar_movies\n"
   ]
  },
  {
   "cell_type": "code",
   "execution_count": 34,
   "id": "14a32e86-d06b-4c34-b62b-6c4adf68b964",
   "metadata": {
    "tags": []
   },
   "outputs": [
    {
     "name": "stdout",
     "output_type": "stream",
     "text": [
      "Movies similar to 'Star Wars':\n",
      "['Star Wars', 'Star Wars: Episode I - The Phantom Menace', 'Star Wars: Episode III - Revenge of the Sith', 'Star Wars: Episode II - Attack of the Clones', 'The Rescuers']\n"
     ]
    }
   ],
   "source": [
    "# Example usage\n",
    "movie_title = 'Star Wars'\n",
    "similar_movies = get_similar_movies(movie_title, similarity_matrix, tmdb_df)\n",
    "print(f\"Movies similar to '{movie_title}':\")\n",
    "print(similar_movies[:5])\n"
   ]
  },
  {
   "cell_type": "markdown",
   "id": "9c5350fb-63c5-4611-bf3e-99535b0639b5",
   "metadata": {},
   "source": [
    "**Content Genre Clustering**\n",
    "\n",
    "- Apply clustering algorithms (K-means) to group movies based on their genre vectors, to help identify similar genres that might be recommended together.\n",
    "- Use the cluster assignments as additional features in the recommendation model\n",
    "- Evaluate the performance of recommendation system"
   ]
  },
  {
   "cell_type": "code",
   "execution_count": 35,
   "id": "68ab8a16-6f0d-4c04-92c5-09c4e2562a6d",
   "metadata": {
    "tags": []
   },
   "outputs": [],
   "source": [
    "#text preprocessing\n",
    "tfidf_matrix_genre, tfidf_vectorizer_genre = apply_tfidf_vectorizer(tmdb_df, text_column='genre_names')\n"
   ]
  },
  {
   "cell_type": "code",
   "execution_count": 36,
   "id": "7d5b7d58-636e-4169-9e98-6413fbbd99ac",
   "metadata": {
    "tags": []
   },
   "outputs": [
    {
     "name": "stderr",
     "output_type": "stream",
     "text": [
      "/Users/aamad_000/anaconda3/lib/python3.11/site-packages/sklearn/cluster/_kmeans.py:1412: FutureWarning: The default value of `n_init` will change from 10 to 'auto' in 1.4. Set the value of `n_init` explicitly to suppress the warning\n",
      "  super()._check_params_vs_input(X, default_n_init=10)\n"
     ]
    }
   ],
   "source": [
    "#applying k-means clustering\n",
    "kmeans = KMeans(n_clusters=5, random_state=42)\n",
    "tmdb_df['genre_cluster'] = kmeans.fit_predict(tfidf_matrix_genre)"
   ]
  },
  {
   "cell_type": "code",
   "execution_count": 37,
   "id": "803eb8a7-7459-412f-b99f-b203c1440367",
   "metadata": {
    "tags": []
   },
   "outputs": [
    {
     "data": {
      "text/plain": [
       "adult                         bool\n",
       "backdrop_path               object\n",
       "genre_ids                   object\n",
       "id                           int64\n",
       "original_language           object\n",
       "original_title              object\n",
       "overview                    object\n",
       "popularity                 float64\n",
       "poster_path                 object\n",
       "release_date                object\n",
       "title                       object\n",
       "video                         bool\n",
       "vote_average               float64\n",
       "vote_count                   int64\n",
       "directors                   object\n",
       "cast                        object\n",
       "popularity_normalized      float64\n",
       "vote_count_normalized      float64\n",
       "vote_average_normalized    float64\n",
       "genre_names                 object\n",
       "release_year               float64\n",
       "lead_actor                  object\n",
       "lead_actor_avg_rating      float64\n",
       "director                    object\n",
       "director_avg_rating        float64\n",
       "Action                       int64\n",
       "Adventure                    int64\n",
       "Animation                    int64\n",
       "Comedy                       int64\n",
       "Crime                        int64\n",
       "Documentary                  int64\n",
       "Drama                        int64\n",
       "Family                       int64\n",
       "Fantasy                      int64\n",
       "History                      int64\n",
       "Horror                       int64\n",
       "Music                        int64\n",
       "Mystery                      int64\n",
       "Romance                      int64\n",
       "Science Fiction              int64\n",
       "TV Movie                     int64\n",
       "Thriller                     int64\n",
       "War                          int64\n",
       "Western                      int64\n",
       "preprocessed_overview       object\n",
       "genre_cluster                int32\n",
       "dtype: object"
      ]
     },
     "execution_count": 37,
     "metadata": {},
     "output_type": "execute_result"
    }
   ],
   "source": [
    "tmdb_df.dtypes"
   ]
  },
  {
   "cell_type": "code",
   "execution_count": 38,
   "id": "ad4df560-4311-4975-bb47-cfb383355d7b",
   "metadata": {
    "tags": []
   },
   "outputs": [
    {
     "data": {
      "text/plain": [
       "array([2, 0, 3, ..., 0, 4, 1], dtype=int32)"
      ]
     },
     "execution_count": 38,
     "metadata": {},
     "output_type": "execute_result"
    }
   ],
   "source": [
    "kmeans.labels_"
   ]
  },
  {
   "cell_type": "code",
   "execution_count": 39,
   "id": "d5b8379e-7b20-4d46-ae60-ffb0d5deae60",
   "metadata": {
    "tags": []
   },
   "outputs": [
    {
     "data": {
      "text/plain": [
       "array([2, 0, 3, ..., 0, 4, 1], dtype=int32)"
      ]
     },
     "execution_count": 39,
     "metadata": {},
     "output_type": "execute_result"
    }
   ],
   "source": [
    "kmeans.predict(tfidf_matrix_genre)"
   ]
  },
  {
   "cell_type": "code",
   "execution_count": 40,
   "id": "37998e9e-a6a0-47ac-ba32-110004add59a",
   "metadata": {},
   "outputs": [],
   "source": [
    "# Attach predicted cluster to original points\n",
    "tmdb_df['cluster'] = kmeans.labels_\n"
   ]
  },
  {
   "cell_type": "code",
   "execution_count": 41,
   "id": "d10ca034-6061-4028-9e6d-6c4b485ec153",
   "metadata": {
    "tags": []
   },
   "outputs": [],
   "source": [
    "#option 1: groupby\n",
    "numeric_columns = tmdb_df.select_dtypes(include=['number']).columns\n",
    "genre_cluster_means = tmdb_df.groupby('genre_cluster')[numeric_columns].mean()\n"
   ]
  },
  {
   "cell_type": "code",
   "execution_count": 42,
   "id": "85051ec3-aaf7-494d-8b36-adc513a8893a",
   "metadata": {
    "tags": []
   },
   "outputs": [],
   "source": [
    "# Option 2: Using cluster_centers_\n",
    "genre_cluster_centers = tfidf_vectorizer_genre.inverse_transform(kmeans.cluster_centers_)\n"
   ]
  },
  {
   "cell_type": "code",
   "execution_count": 43,
   "id": "88d9b654-26c6-44e7-bbc2-0e80d8509b13",
   "metadata": {
    "tags": []
   },
   "outputs": [
    {
     "data": {
      "text/html": [
       "<div>\n",
       "<style scoped>\n",
       "    .dataframe tbody tr th:only-of-type {\n",
       "        vertical-align: middle;\n",
       "    }\n",
       "\n",
       "    .dataframe tbody tr th {\n",
       "        vertical-align: top;\n",
       "    }\n",
       "\n",
       "    .dataframe thead th {\n",
       "        text-align: right;\n",
       "    }\n",
       "</style>\n",
       "<table border=\"1\" class=\"dataframe\">\n",
       "  <thead>\n",
       "    <tr style=\"text-align: right;\">\n",
       "      <th></th>\n",
       "      <th>cluster_0</th>\n",
       "      <th>cluster_1</th>\n",
       "      <th>cluster_2</th>\n",
       "      <th>cluster_3</th>\n",
       "      <th>cluster_4</th>\n",
       "      <th>cluster_5</th>\n",
       "      <th>cluster_6</th>\n",
       "      <th>cluster_7</th>\n",
       "      <th>cluster_8</th>\n",
       "      <th>cluster_9</th>\n",
       "      <th>...</th>\n",
       "      <th>cluster_11</th>\n",
       "      <th>cluster_12</th>\n",
       "      <th>cluster_13</th>\n",
       "      <th>cluster_14</th>\n",
       "      <th>cluster_15</th>\n",
       "      <th>cluster_16</th>\n",
       "      <th>cluster_17</th>\n",
       "      <th>cluster_18</th>\n",
       "      <th>cluster_19</th>\n",
       "      <th>cluster_20</th>\n",
       "    </tr>\n",
       "  </thead>\n",
       "  <tbody>\n",
       "    <tr>\n",
       "      <th>0</th>\n",
       "      <td>action</td>\n",
       "      <td>adventure</td>\n",
       "      <td>animation</td>\n",
       "      <td>comedy</td>\n",
       "      <td>crime</td>\n",
       "      <td>documentary</td>\n",
       "      <td>drama</td>\n",
       "      <td>family</td>\n",
       "      <td>fantasy</td>\n",
       "      <td>history</td>\n",
       "      <td>...</td>\n",
       "      <td>movie</td>\n",
       "      <td>music</td>\n",
       "      <td>mystery</td>\n",
       "      <td>romance</td>\n",
       "      <td>thriller</td>\n",
       "      <td>tv</td>\n",
       "      <td>war</td>\n",
       "      <td>western</td>\n",
       "      <td>None</td>\n",
       "      <td>None</td>\n",
       "    </tr>\n",
       "    <tr>\n",
       "      <th>1</th>\n",
       "      <td>action</td>\n",
       "      <td>adventure</td>\n",
       "      <td>animation</td>\n",
       "      <td>comedy</td>\n",
       "      <td>crime</td>\n",
       "      <td>documentary</td>\n",
       "      <td>drama</td>\n",
       "      <td>family</td>\n",
       "      <td>fantasy</td>\n",
       "      <td>fiction</td>\n",
       "      <td>...</td>\n",
       "      <td>horror</td>\n",
       "      <td>movie</td>\n",
       "      <td>music</td>\n",
       "      <td>mystery</td>\n",
       "      <td>romance</td>\n",
       "      <td>science</td>\n",
       "      <td>thriller</td>\n",
       "      <td>tv</td>\n",
       "      <td>war</td>\n",
       "      <td>western</td>\n",
       "    </tr>\n",
       "    <tr>\n",
       "      <th>2</th>\n",
       "      <td>action</td>\n",
       "      <td>adventure</td>\n",
       "      <td>animation</td>\n",
       "      <td>comedy</td>\n",
       "      <td>crime</td>\n",
       "      <td>drama</td>\n",
       "      <td>family</td>\n",
       "      <td>fantasy</td>\n",
       "      <td>fiction</td>\n",
       "      <td>horror</td>\n",
       "      <td>...</td>\n",
       "      <td>mystery</td>\n",
       "      <td>romance</td>\n",
       "      <td>science</td>\n",
       "      <td>thriller</td>\n",
       "      <td>tv</td>\n",
       "      <td>war</td>\n",
       "      <td>western</td>\n",
       "      <td>None</td>\n",
       "      <td>None</td>\n",
       "      <td>None</td>\n",
       "    </tr>\n",
       "    <tr>\n",
       "      <th>3</th>\n",
       "      <td>action</td>\n",
       "      <td>adventure</td>\n",
       "      <td>animation</td>\n",
       "      <td>comedy</td>\n",
       "      <td>crime</td>\n",
       "      <td>documentary</td>\n",
       "      <td>drama</td>\n",
       "      <td>family</td>\n",
       "      <td>fantasy</td>\n",
       "      <td>fiction</td>\n",
       "      <td>...</td>\n",
       "      <td>movie</td>\n",
       "      <td>music</td>\n",
       "      <td>mystery</td>\n",
       "      <td>romance</td>\n",
       "      <td>science</td>\n",
       "      <td>thriller</td>\n",
       "      <td>tv</td>\n",
       "      <td>western</td>\n",
       "      <td>None</td>\n",
       "      <td>None</td>\n",
       "    </tr>\n",
       "    <tr>\n",
       "      <th>4</th>\n",
       "      <td>action</td>\n",
       "      <td>adventure</td>\n",
       "      <td>animation</td>\n",
       "      <td>comedy</td>\n",
       "      <td>crime</td>\n",
       "      <td>documentary</td>\n",
       "      <td>drama</td>\n",
       "      <td>family</td>\n",
       "      <td>fantasy</td>\n",
       "      <td>history</td>\n",
       "      <td>...</td>\n",
       "      <td>movie</td>\n",
       "      <td>mystery</td>\n",
       "      <td>romance</td>\n",
       "      <td>thriller</td>\n",
       "      <td>tv</td>\n",
       "      <td>war</td>\n",
       "      <td>None</td>\n",
       "      <td>None</td>\n",
       "      <td>None</td>\n",
       "      <td>None</td>\n",
       "    </tr>\n",
       "  </tbody>\n",
       "</table>\n",
       "<p>5 rows × 21 columns</p>\n",
       "</div>"
      ],
      "text/plain": [
       "  cluster_0  cluster_1  cluster_2 cluster_3 cluster_4    cluster_5 cluster_6  \\\n",
       "0    action  adventure  animation    comedy     crime  documentary     drama   \n",
       "1    action  adventure  animation    comedy     crime  documentary     drama   \n",
       "2    action  adventure  animation    comedy     crime        drama    family   \n",
       "3    action  adventure  animation    comedy     crime  documentary     drama   \n",
       "4    action  adventure  animation    comedy     crime  documentary     drama   \n",
       "\n",
       "  cluster_7 cluster_8 cluster_9  ... cluster_11 cluster_12 cluster_13  \\\n",
       "0    family   fantasy   history  ...      movie      music    mystery   \n",
       "1    family   fantasy   fiction  ...     horror      movie      music   \n",
       "2   fantasy   fiction    horror  ...    mystery    romance    science   \n",
       "3    family   fantasy   fiction  ...      movie      music    mystery   \n",
       "4    family   fantasy   history  ...      movie    mystery    romance   \n",
       "\n",
       "  cluster_14 cluster_15 cluster_16 cluster_17 cluster_18 cluster_19 cluster_20  \n",
       "0    romance   thriller         tv        war    western       None       None  \n",
       "1    mystery    romance    science   thriller         tv        war    western  \n",
       "2   thriller         tv        war    western       None       None       None  \n",
       "3    romance    science   thriller         tv    western       None       None  \n",
       "4   thriller         tv        war       None       None       None       None  \n",
       "\n",
       "[5 rows x 21 columns]"
      ]
     },
     "execution_count": 43,
     "metadata": {},
     "output_type": "execute_result"
    }
   ],
   "source": [
    "genre_cluster_centers_df = pd.DataFrame(genre_cluster_centers, columns=[f'cluster_{i}' for i in range(21)])\n",
    "genre_cluster_centers_df"
   ]
  },
  {
   "cell_type": "code",
   "execution_count": 44,
   "id": "c269a908-95d1-44ce-a1e6-340d0c28a609",
   "metadata": {
    "tags": []
   },
   "outputs": [
    {
     "data": {
      "text/plain": [
       "genre_cluster\n",
       "0    1740\n",
       "3    1023\n",
       "1     877\n",
       "2     728\n",
       "4     632\n",
       "Name: count, dtype: int64"
      ]
     },
     "execution_count": 44,
     "metadata": {},
     "output_type": "execute_result"
    }
   ],
   "source": [
    "tmdb_df['genre_cluster'].value_counts()"
   ]
  },
  {
   "cell_type": "code",
   "execution_count": 45,
   "id": "3d8335e4-0167-4518-adfe-4dedc5b7f545",
   "metadata": {
    "tags": []
   },
   "outputs": [
    {
     "name": "stdout",
     "output_type": "stream",
     "text": [
      "Index(['adult', 'backdrop_path', 'genre_ids', 'id', 'original_language',\n",
      "       'original_title', 'overview', 'popularity', 'poster_path',\n",
      "       'release_date', 'title', 'video', 'vote_average', 'vote_count',\n",
      "       'directors', 'cast', 'popularity_normalized', 'vote_count_normalized',\n",
      "       'vote_average_normalized', 'genre_names', 'release_year', 'lead_actor',\n",
      "       'lead_actor_avg_rating', 'director', 'director_avg_rating', 'Action',\n",
      "       'Adventure', 'Animation', 'Comedy', 'Crime', 'Documentary', 'Drama',\n",
      "       'Family', 'Fantasy', 'History', 'Horror', 'Music', 'Mystery', 'Romance',\n",
      "       'Science Fiction', 'TV Movie', 'Thriller', 'War', 'Western',\n",
      "       'preprocessed_overview', 'genre_cluster', 'cluster'],\n",
      "      dtype='object')\n"
     ]
    }
   ],
   "source": [
    "\n",
    "print(tmdb_df.columns)\n"
   ]
  },
  {
   "cell_type": "code",
   "execution_count": 46,
   "id": "5ac23cfb-02d7-4dfe-91f7-20b2e2ff0aee",
   "metadata": {
    "tags": []
   },
   "outputs": [
    {
     "data": {
      "text/plain": [
       "<Figure size 1000x800 with 0 Axes>"
      ]
     },
     "metadata": {},
     "output_type": "display_data"
    },
    {
     "data": {
      "image/png": "[encoded data removed]",
      "text/plain": [
       "<Figure size 1000x800 with 1 Axes>"
      ]
     },
     "metadata": {},
     "output_type": "display_data"
    }
   ],
   "source": [
    "plt.figure(figsize=(10, 8))\n",
    "\n",
    "# Map colors for different genre clusters\n",
    "unique_clusters = tmdb_df['genre_cluster'].nunique()\n",
    "colors = ['red', 'green', 'blue', 'orange', 'purple', 'cyan', 'magenta', 'yellow', 'black', 'brown', 'pink', 'gray', 'olive', 'lime', 'teal', 'coral', 'indigo', 'violet', 'gold', 'navy'][:unique_clusters]\n",
    "\n",
    "tmdb_df['colors'] = tmdb_df['genre_cluster'].map(lambda p: colors[p])\n",
    "\n",
    "# Plot points\n",
    "ax = tmdb_df.plot(kind='scatter',\n",
    "                  x='vote_average_normalized',\n",
    "                  y='popularity_normalized',\n",
    "                  figsize=(10, 8),\n",
    "                  c=tmdb_df['colors'],\n",
    "                  marker='o',\n",
    "                  alpha=0.6)\n",
    "\n",
    "# Plot Centroids\n",
    "genre_cluster_means.plot(kind='scatter',\n",
    "                         x='vote_average_normalized',\n",
    "                         y='popularity_normalized',\n",
    "                         marker='*',\n",
    "                         c=colors,\n",
    "                         s=1000,\n",
    "                         ax=ax)\n",
    "\n",
    "# Set plot labels\n",
    "plt.title('Genre Clusters with Centroids')\n",
    "plt.xlabel('Vote Average')\n",
    "plt.ylabel('Normalized Popularity')\n",
    "\n",
    "# Set axis limits to zoom in\n",
    "#plt.xlim(-0.2, 1)  \n",
    "#plt.ylim(-0.2, 1)  \n",
    "\n",
    "plt.show()\n"
   ]
  },
  {
   "cell_type": "code",
   "execution_count": 47,
   "id": "afcf2893-778e-446c-8a13-8c77df78c4ec",
   "metadata": {
    "tags": []
   },
   "outputs": [
    {
     "data": {
      "text/plain": [
       "colors\n",
       "red       1740\n",
       "orange    1023\n",
       "green      877\n",
       "blue       728\n",
       "purple     632\n",
       "Name: count, dtype: int64"
      ]
     },
     "execution_count": 47,
     "metadata": {},
     "output_type": "execute_result"
    }
   ],
   "source": [
    "tmdb_df['colors'].value_counts()"
   ]
  },
  {
   "cell_type": "markdown",
   "id": "510e0333-e0dd-4d6c-9e7c-6d2887638f10",
   "metadata": {},
   "source": [
    "finding best k value"
   ]
  },
  {
   "cell_type": "code",
   "execution_count": 48,
   "id": "3d6d44a8-4051-4737-ab35-f61cb3d07452",
   "metadata": {
    "tags": []
   },
   "outputs": [
    {
     "name": "stderr",
     "output_type": "stream",
     "text": [
      "/Users/aamad_000/anaconda3/lib/python3.11/site-packages/sklearn/cluster/_kmeans.py:1412: FutureWarning: The default value of `n_init` will change from 10 to 'auto' in 1.4. Set the value of `n_init` explicitly to suppress the warning\n",
      "  super()._check_params_vs_input(X, default_n_init=10)\n"
     ]
    }
   ],
   "source": [
    "# Inertia Scores\n",
    "inertia_list = []\n",
    "for k in range(1, 11):\n",
    "    km = KMeans(n_clusters=k, random_state=42)\n",
    "    km.fit(tfidf_matrix_genre)\n",
    "    inertia_list.append(km.inertia_)\n"
   ]
  },
  {
   "cell_type": "code",
   "execution_count": 49,
   "id": "4b83d5b8-8f85-4738-8ec4-2bef0cb74af5",
   "metadata": {
    "tags": []
   },
   "outputs": [
    {
     "data": {
      "text/plain": [
       "[4040.807566069722,\n",
       " 3568.5008741469974,\n",
       " 3184.9646969874784,\n",
       " 2831.6943356402003,\n",
       " 2536.0253747090455,\n",
       " 2317.3312371514994,\n",
       " 2148.91886724307,\n",
       " 2011.1297514186751,\n",
       " 1902.101139192076,\n",
       " 1834.3686142117476]"
      ]
     },
     "execution_count": 49,
     "metadata": {},
     "output_type": "execute_result"
    }
   ],
   "source": [
    "inertia_list"
   ]
  },
  {
   "cell_type": "code",
   "execution_count": 50,
   "id": "fdbfecea-ec96-4ed8-b63a-b588c7ba39aa",
   "metadata": {
    "tags": []
   },
   "outputs": [
    {
     "name": "stderr",
     "output_type": "stream",
     "text": [
      "/Users/aamad_000/anaconda3/lib/python3.11/site-packages/sklearn/cluster/_kmeans.py:1412: FutureWarning: The default value of `n_init` will change from 10 to 'auto' in 1.4. Set the value of `n_init` explicitly to suppress the warning\n",
      "  super()._check_params_vs_input(X, default_n_init=10)\n",
      "/Users/aamad_000/anaconda3/lib/python3.11/site-packages/sklearn/cluster/_kmeans.py:1412: FutureWarning: The default value of `n_init` will change from 10 to 'auto' in 1.4. Set the value of `n_init` explicitly to suppress the warning\n",
      "  super()._check_params_vs_input(X, default_n_init=10)\n",
      "/Users/aamad_000/anaconda3/lib/python3.11/site-packages/sklearn/cluster/_kmeans.py:1412: FutureWarning: The default value of `n_init` will change from 10 to 'auto' in 1.4. Set the value of `n_init` explicitly to suppress the warning\n",
      "  super()._check_params_vs_input(X, default_n_init=10)\n",
      "/Users/aamad_000/anaconda3/lib/python3.11/site-packages/sklearn/cluster/_kmeans.py:1412: FutureWarning: The default value of `n_init` will change from 10 to 'auto' in 1.4. Set the value of `n_init` explicitly to suppress the warning\n",
      "  super()._check_params_vs_input(X, default_n_init=10)\n",
      "/Users/aamad_000/anaconda3/lib/python3.11/site-packages/sklearn/cluster/_kmeans.py:1412: FutureWarning: The default value of `n_init` will change from 10 to 'auto' in 1.4. Set the value of `n_init` explicitly to suppress the warning\n",
      "  super()._check_params_vs_input(X, default_n_init=10)\n",
      "/Users/aamad_000/anaconda3/lib/python3.11/site-packages/sklearn/cluster/_kmeans.py:1412: FutureWarning: The default value of `n_init` will change from 10 to 'auto' in 1.4. Set the value of `n_init` explicitly to suppress the warning\n",
      "  super()._check_params_vs_input(X, default_n_init=10)\n",
      "/Users/aamad_000/anaconda3/lib/python3.11/site-packages/sklearn/cluster/_kmeans.py:1412: FutureWarning: The default value of `n_init` will change from 10 to 'auto' in 1.4. Set the value of `n_init` explicitly to suppress the warning\n",
      "  super()._check_params_vs_input(X, default_n_init=10)\n",
      "/Users/aamad_000/anaconda3/lib/python3.11/site-packages/sklearn/cluster/_kmeans.py:1412: FutureWarning: The default value of `n_init` will change from 10 to 'auto' in 1.4. Set the value of `n_init` explicitly to suppress the warning\n",
      "  super()._check_params_vs_input(X, default_n_init=10)\n"
     ]
    }
   ],
   "source": [
    "# Silhouette Scores\n",
    "silhouette_list = []\n",
    "for k in range(2, 11):\n",
    "    km = KMeans(n_clusters=k, random_state=42)\n",
    "    km.fit(tfidf_matrix_genre)\n",
    "    silhouette_list.append(silhouette_score(tfidf_matrix_genre, km.labels_))\n"
   ]
  },
  {
   "cell_type": "code",
   "execution_count": 51,
   "id": "e2b68938-f78e-472d-9a89-8175140c517b",
   "metadata": {
    "tags": []
   },
   "outputs": [
    {
     "data": {
      "text/plain": [
       "[0.13068527388536436,\n",
       " 0.16600774192855583,\n",
       " 0.19978272039873163,\n",
       " 0.23136039808404338,\n",
       " 0.2582347269247074,\n",
       " 0.25642650335669986,\n",
       " 0.2783642504564681,\n",
       " 0.27925383232174017,\n",
       " 0.2820167226346256]"
      ]
     },
     "execution_count": 51,
     "metadata": {},
     "output_type": "execute_result"
    }
   ],
   "source": [
    "silhouette_list"
   ]
  },
  {
   "cell_type": "code",
   "execution_count": 52,
   "id": "cf7a0d29-ba71-446a-bb80-e622855f77c6",
   "metadata": {
    "tags": []
   },
   "outputs": [
    {
     "data": {
      "text/plain": [
       "Text(0.5, 1.0, 'Silhouette Scores')"
      ]
     },
     "execution_count": 52,
     "metadata": {},
     "output_type": "execute_result"
    },
    {
     "data": {
      "image/png": "[encoded data removed]",
      "text/plain": [
       "<Figure size 1200x400 with 2 Axes>"
      ]
     },
     "metadata": {},
     "output_type": "display_data"
    }
   ],
   "source": [
    "# Plotting Inertia Scores\n",
    "plt.figure(figsize=(12, 4))\n",
    "plt.subplot(1, 2, 1)\n",
    "plt.plot(range(1, 11), inertia_list, marker='o')\n",
    "plt.xlabel('# of clusters')\n",
    "plt.ylabel('Inertia Score')\n",
    "plt.title('Inertia Scores')\n",
    "# Plotting Silhouette Scores\n",
    "plt.subplot(1, 2, 2)\n",
    "plt.plot(range(2, 11), silhouette_list, marker='o', color='blue')\n",
    "plt.xlabel('# of clusters')\n",
    "plt.ylabel('Silhouette Score')\n",
    "plt.title('Silhouette Scores')"
   ]
  },
  {
   "cell_type": "code",
   "execution_count": 53,
   "id": "b671487c-b5e6-4292-92bb-a8f49e0a66f4",
   "metadata": {
    "tags": []
   },
   "outputs": [],
   "source": [
    "# # Select only numeric columns\n",
    "# numeric_columns = tmdb_df.select_dtypes(include=['number'])\n",
    "\n",
    "# # Calculate correlation matrix\n",
    "# correlation_matrix = numeric_columns.corr()\n",
    "\n",
    "# # Display the correlation matrix as a table\n",
    "# #correlation_matrix.style.background_gradient(cmap='coolwarm').set_precision(2)\n",
    "# correlation_matrix"
   ]
  },
  {
   "cell_type": "code",
   "execution_count": 97,
   "id": "a9e3a3eb-9e4c-4ae6-8526-3ea98c6d4084",
   "metadata": {
    "tags": []
   },
   "outputs": [
    {
     "name": "stderr",
     "output_type": "stream",
     "text": [
      "/Users/aamad_000/anaconda3/lib/python3.11/site-packages/sklearn/cluster/_kmeans.py:1412: FutureWarning: The default value of `n_init` will change from 10 to 'auto' in 1.4. Set the value of `n_init` explicitly to suppress the warning\n",
      "  super()._check_params_vs_input(X, default_n_init=10)\n"
     ]
    },
    {
     "data": {
      "text/plain": [
       "<matplotlib.colorbar.Colorbar at 0x19995a5d0>"
      ]
     },
     "execution_count": 97,
     "metadata": {},
     "output_type": "execute_result"
    },
    {
     "data": {
      "image/png": "[encoded data removed]",
      "text/plain": [
       "<Figure size 1000x800 with 2 Axes>"
      ]
     },
     "metadata": {},
     "output_type": "display_data"
    }
   ],
   "source": [
    "X_cluster = tmdb_df[['vote_average_normalized', 'popularity_normalized']]\n",
    "\n",
    "# Create KMeans instance\n",
    "km = KMeans(n_clusters=8, random_state=42)\n",
    "km.fit(X_cluster)\n",
    "\n",
    "# Get cluster labels and centroids\n",
    "cluster_labels = km.labels_\n",
    "centroids = km.cluster_centers_\n",
    "\n",
    "# Plot the clusters\n",
    "plt.figure(figsize=(10, 8))\n",
    "\n",
    "# Scatter plot of data points with genre labels\n",
    "scatter = plt.scatter(x='vote_average_normalized', y='popularity_normalized', c=tmdb_df['genre_cluster'], cmap='jet', data=tmdb_df, marker='o', alpha=0.6)\n",
    "\n",
    "# Scatter plot of centroids with matching cluster colors\n",
    "plt.scatter(centroids[:, 0], centroids[:, 1], marker='*', c=range(len(centroids)), cmap='jet', s=500, label='Centroids')  # Use 'range(len(centroids))' as the color values for centroids\n",
    "\n",
    "# Set plot labels and title\n",
    "plt.title('KMeans Clustering with n_clusters=8')\n",
    "plt.xlabel('Vote Average (Normalized)')\n",
    "plt.ylabel('Popularity (Normalized)')\n",
    "\n",
    "\n",
    "# Add colorbar for genre labels\n",
    "plt.colorbar(scatter, label='Genre Labels')\n",
    "\n",
    "\n"
   ]
  },
  {
   "cell_type": "markdown",
   "id": "c6ad161a-27fb-424d-a6c8-0d83c27fd2aa",
   "metadata": {},
   "source": [
    "**Interpretation:**\n",
    "\n",
    "The scatter plot shows the distribution of data points based on the features vote_average_normalized and popularity_normalized. Each data point is assigned a color based on its cluster label, and the centroids represent the center of each cluster. Each color corresponds to a different genre cluster, allowing the audience to visually see how the KMeans algorithm has grouped movies based on their normalized vote average and popularity, as well as their genre. The resulting clusters represent groups of movies that are similar to each other in terms of their vote averages and popularity scores.\n",
    "\n",
    "The reason behind grouping by vote averages and popularity scores is to identify clusters of movies with similar audience reception and popularity. This approach is based on the overall reception and visibility of movies."
   ]
  },
  {
   "cell_type": "code",
   "execution_count": 78,
   "id": "0d6476ee-4230-4b30-ad0d-37e2ce24fd2c",
   "metadata": {
    "tags": []
   },
   "outputs": [
    {
     "name": "stdout",
     "output_type": "stream",
     "text": [
      "Cluster Labels: [5 5 5 ... 4 3 0]\n"
     ]
    }
   ],
   "source": [
    "print(\"Cluster Labels:\", cluster_labels)\n"
   ]
  },
  {
   "cell_type": "code",
   "execution_count": 80,
   "id": "2da66cee-0eb4-4ea9-95e8-71219eb01c2a",
   "metadata": {
    "tags": []
   },
   "outputs": [
    {
     "name": "stdout",
     "output_type": "stream",
     "text": [
      "               vote_average_normalized  popularity_normalized  title\n",
      "genre_cluster                                                       \n",
      "0                             0.665253               0.011620   1740\n",
      "1                             0.660605               0.009027    877\n",
      "2                             0.640973               0.015655    728\n",
      "3                             0.673045               0.014147   1023\n",
      "4                             0.598964               0.010760    632\n"
     ]
    }
   ],
   "source": [
    "cluster_summary = tmdb_df.groupby('genre_cluster').agg({'vote_average_normalized': 'mean', 'popularity_normalized': 'mean', 'title': 'count'})\n",
    "print(cluster_summary)\n"
   ]
  },
  {
   "cell_type": "code",
   "execution_count": 85,
   "id": "7f1cd932-fa63-477d-a351-92dc7311ad91",
   "metadata": {
    "tags": []
   },
   "outputs": [
    {
     "name": "stdout",
     "output_type": "stream",
     "text": [
      "                                          title  vote_average_normalized  \\\n",
      "26                                     The Farm                   0.5267   \n",
      "30             The Exorcism of Hannah Stevenson                   0.6563   \n",
      "35                    Skal - Fight for Survival                   0.0000   \n",
      "36                                    Deep Fear                   0.5935   \n",
      "41                                   Night Swim                   0.5955   \n",
      "...                                         ...                      ...   \n",
      "4968                            Hubie Halloween                   0.5939   \n",
      "4974  The Return of the Texas Chainsaw Massacre                   0.4600   \n",
      "4990                  Amityville: The Awakening                   0.5338   \n",
      "4993                            The Divine Fury                   0.6715   \n",
      "4998                                Zombie Town                   0.4182   \n",
      "\n",
      "      popularity_normalized  \n",
      "26                 0.183793  \n",
      "30                 0.147616  \n",
      "35                 0.128567  \n",
      "36                 0.127242  \n",
      "41                 0.094392  \n",
      "...                     ...  \n",
      "4968               0.002742  \n",
      "4974               0.002740  \n",
      "4990               0.002728  \n",
      "4993               0.002726  \n",
      "4998               0.002721  \n",
      "\n",
      "[632 rows x 3 columns]\n"
     ]
    }
   ],
   "source": [
    "\n",
    "movies_in_cluster_4 = tmdb_df[tmdb_df['genre_cluster'] == 4]\n",
    "\n",
    "# Display information about movies in Cluster 4\n",
    "print(movies_in_cluster_4[['title', 'vote_average_normalized', 'popularity_normalized']])\n"
   ]
  },
  {
   "cell_type": "code",
   "execution_count": 86,
   "id": "4765f410-0b51-4ca6-ad0f-e83756359e0b",
   "metadata": {
    "tags": []
   },
   "outputs": [
    {
     "name": "stdout",
     "output_type": "stream",
     "text": [
      "                                                  title  \\\n",
      "2                                                 Wonka   \n",
      "6                          Aquaman and the Lost Kingdom   \n",
      "7                                             Migration   \n",
      "8                                                  Wish   \n",
      "10                                   Orion and the Dark   \n",
      "...                                                 ...   \n",
      "4960                     Dragon Ball: The Path to Power   \n",
      "4971  Doraemon: New Nobita's Great Demon – Peko and ...   \n",
      "4972                         Tangled: Before Ever After   \n",
      "4984              Street Fighter II: The Animated Movie   \n",
      "4988                                  The Portable Door   \n",
      "\n",
      "      vote_average_normalized  popularity_normalized  \n",
      "2                      0.7218               0.542807  \n",
      "6                      0.6916               0.390437  \n",
      "7                      0.7657               0.389861  \n",
      "8                      0.6636               0.386420  \n",
      "10                     0.6801               0.334703  \n",
      "...                       ...                    ...  \n",
      "4960                   0.7328               0.002749  \n",
      "4971                   0.6200               0.002740  \n",
      "4972                   0.6806               0.002740  \n",
      "4984                   0.6989               0.002734  \n",
      "4988                   0.6599               0.002729  \n",
      "\n",
      "[1023 rows x 3 columns]\n"
     ]
    }
   ],
   "source": [
    "movies_in_cluster_3 = tmdb_df[tmdb_df['genre_cluster'] == 3]\n",
    "\n",
    "# Display information about movies in Cluster 3\n",
    "print(movies_in_cluster_3[['title', 'vote_average_normalized', 'popularity_normalized']])\n"
   ]
  },
  {
   "cell_type": "code",
   "execution_count": 87,
   "id": "037beb73-db73-4365-b190-d83d45c59b3c",
   "metadata": {
    "tags": []
   },
   "outputs": [
    {
     "name": "stdout",
     "output_type": "stream",
     "text": [
      "                                                  title  \\\n",
      "0                                       Badland Hunters   \n",
      "3                                           The Marvels   \n",
      "9     The Hunger Games: The Ballad of Songbirds & Sn...   \n",
      "12               Rebel Moon - Part One: A Child of Fire   \n",
      "29                                          The Creator   \n",
      "...                                                 ...   \n",
      "4944                     Green Lantern: Beware My Power   \n",
      "4979                                               2046   \n",
      "4982                                          Possessor   \n",
      "4986               Justice League: Crisis on Two Earths   \n",
      "4989                           Illang: The Wolf Brigade   \n",
      "\n",
      "      vote_average_normalized  popularity_normalized  \n",
      "0                      0.6942               1.000000  \n",
      "3                      0.6309               0.504334  \n",
      "9                      0.7221               0.374366  \n",
      "12                     0.6417               0.313097  \n",
      "29                     0.7130               0.160047  \n",
      "...                       ...                    ...  \n",
      "4944                   0.6900               0.002760  \n",
      "4979                   0.7230               0.002737  \n",
      "4982                   0.6386               0.002735  \n",
      "4986                   0.7302               0.002732  \n",
      "4989                   0.6336               0.002728  \n",
      "\n",
      "[728 rows x 3 columns]\n"
     ]
    }
   ],
   "source": [
    "\n",
    "movies_in_cluster_2 = tmdb_df[tmdb_df['genre_cluster'] == 2]\n",
    "\n",
    "# Display information about movies in Cluster 2\n",
    "print(movies_in_cluster_2[['title', 'vote_average_normalized', 'popularity_normalized']])\n"
   ]
  },
  {
   "cell_type": "code",
   "execution_count": 88,
   "id": "09db4bbb-abb2-48d8-9542-8d681281ff51",
   "metadata": {
    "tags": []
   },
   "outputs": [
    {
     "name": "stdout",
     "output_type": "stream",
     "text": [
      "                                   title  vote_average_normalized  \\\n",
      "11                       The Family Plan                   0.7350   \n",
      "14                             Role Play                   0.6010   \n",
      "17                             Freelance                   0.6562   \n",
      "19                        Anyone But You                   0.7100   \n",
      "23                        Anyone But You                   0.7045   \n",
      "...                                  ...                      ...   \n",
      "4980  The Life Aquatic with Steve Zissou                   0.7095   \n",
      "4981                             Porky's                   0.6407   \n",
      "4992                    A Thousand Words                   0.6098   \n",
      "4996               Good Morning, Vietnam                   0.7311   \n",
      "4999                  Something Borrowed                   0.6300   \n",
      "\n",
      "      popularity_normalized  \n",
      "11                 0.316297  \n",
      "14                 0.293756  \n",
      "17                 0.265448  \n",
      "19                 0.225894  \n",
      "23                 0.225894  \n",
      "...                     ...  \n",
      "4980               0.002737  \n",
      "4981               0.002735  \n",
      "4992               0.002727  \n",
      "4996               0.002722  \n",
      "4999               0.002721  \n",
      "\n",
      "[877 rows x 3 columns]\n"
     ]
    }
   ],
   "source": [
    "\n",
    "movies_in_cluster_1 = tmdb_df[tmdb_df['genre_cluster'] == 1]\n",
    "\n",
    "# Display information about movies in Cluster 1\n",
    "print(movies_in_cluster_1[['title', 'vote_average_normalized', 'popularity_normalized']])\n"
   ]
  },
  {
   "cell_type": "code",
   "execution_count": 89,
   "id": "94376c2a-a8cc-4de6-bc24-fc8a035e6dd1",
   "metadata": {
    "tags": []
   },
   "outputs": [
    {
     "name": "stdout",
     "output_type": "stream",
     "text": [
      "                                 title  vote_average_normalized  \\\n",
      "1                        Sixty Minutes                   0.7092   \n",
      "4                        The Beekeeper                   0.7304   \n",
      "5                                 Lift                   0.6584   \n",
      "15                      The Bricklayer                   0.6227   \n",
      "16                        Silent Night                   0.6369   \n",
      "...                                ...                      ...   \n",
      "4987                          Renegade                   0.4832   \n",
      "4991                     Shanghai Noon                   0.6411   \n",
      "4994  USS Indianapolis: Men of Courage                   0.5887   \n",
      "4995                           Harriet                   0.7341   \n",
      "4997                          The Drop                   0.6770   \n",
      "\n",
      "      popularity_normalized  \n",
      "1                  0.630926  \n",
      "4                  0.447267  \n",
      "5                  0.468884  \n",
      "15                 0.281095  \n",
      "16                 0.280110  \n",
      "...                     ...  \n",
      "4987               0.002730  \n",
      "4991               0.002727  \n",
      "4994               0.002725  \n",
      "4995               0.002722  \n",
      "4997               0.002721  \n",
      "\n",
      "[1740 rows x 3 columns]\n"
     ]
    }
   ],
   "source": [
    "\n",
    "movies_in_cluster_0 = tmdb_df[tmdb_df['genre_cluster'] == 0]\n",
    "\n",
    "# Display information about movies in Cluster 0\n",
    "print(movies_in_cluster_0[['title', 'vote_average_normalized', 'popularity_normalized']])\n"
   ]
  },
  {
   "cell_type": "markdown",
   "id": "2a7093c3-c4b6-48ab-8490-fb81102dcbd5",
   "metadata": {},
   "source": [
    "need to adjust kmeans number uptop"
   ]
  },
  {
   "cell_type": "code",
   "execution_count": 91,
   "id": "037ce8a9-ec1d-4df9-81d0-1dcaf0a4a9b1",
   "metadata": {
    "tags": []
   },
   "outputs": [
    {
     "name": "stderr",
     "output_type": "stream",
     "text": [
      "/Users/aamad_000/anaconda3/lib/python3.11/site-packages/sklearn/cluster/_kmeans.py:1412: FutureWarning: The default value of `n_init` will change from 10 to 'auto' in 1.4. Set the value of `n_init` explicitly to suppress the warning\n",
      "  super()._check_params_vs_input(X, default_n_init=10)\n"
     ]
    }
   ],
   "source": [
    "genre_columns = ['Action', 'Adventure', 'Animation', 'Comedy', 'Crime', 'Documentary', 'Drama', 'Family', 'Fantasy', 'History', 'Horror', 'Music', 'Mystery', 'Romance', 'Science Fiction', 'TV Movie', 'Thriller', 'War', 'Western']\n",
    "X_genre = tmdb_df[genre_columns]\n",
    "\n",
    "num_genres = len(genre_columns) \n",
    "kmeans_genre = KMeans(n_clusters=num_genres, random_state=42)\n",
    "tmdb_df['genre_cluster'] = kmeans_genre.fit_predict(X_genre)\n",
    "\n"
   ]
  },
  {
   "cell_type": "code",
   "execution_count": 93,
   "id": "83d30981-53de-4b83-9ca2-dd5eb0784bac",
   "metadata": {
    "tags": []
   },
   "outputs": [
    {
     "data": {
      "image/png": "[encoded data removed]",
      "text/plain": [
       "<Figure size 1000x800 with 2 Axes>"
      ]
     },
     "metadata": {},
     "output_type": "display_data"
    }
   ],
   "source": [
    "plt.figure(figsize=(10, 8))\n",
    "\n",
    "# Scatter plot of data points with genre labels\n",
    "scatter = plt.scatter(x='vote_average_normalized', y='popularity_normalized', c=tmdb_df['genre_cluster'], cmap='viridis', data=tmdb_df, marker='o', alpha=0.6)\n",
    "\n",
    "# Scatter plot of centroids with matching cluster colors\n",
    "centroids = kmeans_genre.cluster_centers_\n",
    "plt.scatter(centroids[:, 0], centroids[:, 1], marker='*', c=range(len(centroids)), cmap='viridis', s=500, label='Centroids')\n",
    "\n",
    "# Set plot labels and title\n",
    "plt.title('KMeans Clustering with Genres')\n",
    "plt.xlabel('Vote Average (Normalized)')\n",
    "plt.ylabel('Popularity (Normalized)')\n",
    "\n",
    "# colorbar for genre labels\n",
    "plt.colorbar(scatter, label='Genre Labels')\n",
    "\n"
   ]
  },
  {
   "cell_type": "markdown",
   "id": "738063dd-f14d-4478-920f-e3c9cc330793",
   "metadata": {},
   "source": [
    "**Interpretation:**"
   ]
  },
  {
   "cell_type": "markdown",
   "id": "b643fdcb-14d2-4310-a1ba-665a05a72f3c",
   "metadata": {},
   "source": [
    "**gensim model (in work doesn't work at the moment)**"
   ]
  },
  {
   "cell_type": "code",
   "execution_count": 56,
   "id": "bd5e7e93-63f6-4340-86e7-4e0cd89f6d4a",
   "metadata": {
    "tags": []
   },
   "outputs": [],
   "source": [
    "# documents = [TaggedDocument(words=doc.split(), \n",
    "#                             tags=[str(i)]) for i, doc in enumerate(tmdb_df['preprocessed_overview'])]"
   ]
  },
  {
   "cell_type": "code",
   "execution_count": 57,
   "id": "89e1529c-ec6a-42b2-93fd-4f2aee2e60ed",
   "metadata": {
    "tags": []
   },
   "outputs": [],
   "source": [
    "# #Train a Doc2Vec model\n",
    "# doc2vec_model = Doc2Vec(vector_size=100, window=5, min_count=1, workers=4, epochs=20)\n",
    "# doc2vec_model.build_vocab(documents)\n",
    "# doc2vec_model.train(documents, total_examples=doc2vec_model.corpus_count, epochs=doc2vec_model.epochs)"
   ]
  },
  {
   "cell_type": "code",
   "execution_count": 58,
   "id": "9d7c9fd6-3bfe-4452-92e6-fed04b4c620e",
   "metadata": {
    "tags": []
   },
   "outputs": [],
   "source": [
    "# def recommend_based_on_user_input(user_input, model, data):\n",
    "#     # Convert user input into a document embedding\n",
    "#     user_embedding = model.infer_vector(user_input.split())\n",
    "\n",
    "#     # Get similar movies using most_similar method\n",
    "#     similar_movies = model.dv.most_similar([user_embedding], topn=len(model.dv))\n",
    "\n",
    "#     # Extract movie indices from the similar_movies result\n",
    "#     similar_movie_indices = [int(idx) for idx, _ in similar_movies]\n",
    "\n",
    "#     # Get movie titles based on indices\n",
    "#     recommended_movies = data.iloc[similar_movie_indices]['title'].tolist()\n",
    "\n",
    "#     return recommended_movies"
   ]
  },
  {
   "cell_type": "code",
   "execution_count": 59,
   "id": "a7e3d124-e05a-42cd-9b99-655568e35e21",
   "metadata": {
    "tags": []
   },
   "outputs": [],
   "source": [
    "# user_input = \"soccer\"\n",
    "# recommended_movies = recommend_based_on_user_input(user_input, doc2vec_model, tmdb_df)\n",
    "# print(recommended_movies[:7])"
   ]
  },
  {
   "cell_type": "markdown",
   "id": "cc51946e-1d98-46bc-8080-2ef1c19bc2ea",
   "metadata": {},
   "source": [
    "### 1.2.4 Data Visualization\n",
    "\n",
    "\n",
    "**Deliverables:**\n",
    "\n",
    "- Model Evaluation: Visualize the performance of different recommendation models using metrics such as precision, recall, and accuracy.\n",
    "- Feature Importance: Gain insights into the importance of different features in the models through visualizations, aiding in model interpretation.\n",
    "- User-Item Interaction: Visualize patterns in user-item interaction matrices to understand user preferences and item popularity.\n",
    "\n",
    "---"
   ]
  },
  {
   "cell_type": "markdown",
   "id": "48c5ac7e-e481-4f6e-a36f-b8f733d09bbe",
   "metadata": {},
   "source": [
    "scrap chatbot. Simplified what to do next is 1.) apply content-based genre clustering, 2.) visualizee that using centroids, silouhette, and inertia 3.) put it. all in streamlit app 4.) conclude"
   ]
  },
  {
   "cell_type": "code",
   "execution_count": null,
   "id": "8cbd1bef-96ed-4686-bd27-5607f3dba276",
   "metadata": {},
   "outputs": [],
   "source": []
  }
 ],
 "metadata": {
  "kernelspec": {
   "display_name": "Python 3 (ipykernel)",
   "language": "python",
   "name": "python3"
  },
  "language_info": {
   "codemirror_mode": {
    "name": "ipython",
    "version": 3
   },
   "file_extension": ".py",
   "mimetype": "text/x-python",
   "name": "python",
   "nbconvert_exporter": "python",
   "pygments_lexer": "ipython3",
   "version": "3.11.5"
  }
 },
 "nbformat": 4,
 "nbformat_minor": 5
}
