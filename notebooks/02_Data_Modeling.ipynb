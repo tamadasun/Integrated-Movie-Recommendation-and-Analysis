{
 "cells": [
  {
   "cell_type": "markdown",
   "id": "7cb24daf-d11b-4ff7-b086-adbc42015b0b",
   "metadata": {},
   "source": [
    "use overview column to help with recommender system | doc.to.vec | gensem wrapper, etc"
   ]
  },
  {
   "cell_type": "markdown",
   "id": "88dd193f-289a-4963-bee5-81dba3e4b480",
   "metadata": {},
   "source": [
    "# The Cinematic Nexus: Unveiling the Future of Movie Recommendations and Analysis\n",
    "\n",
    "by Anthony Amadasun\n",
    "\n",
    "## 1.2 Data Modeling \n",
    "\n",
    "---"
   ]
  },
  {
   "cell_type": "markdown",
   "id": "2535a88a-74b7-4222-b17b-73d7e8532032",
   "metadata": {},
   "source": [
    "### 1.2.1 Introduction\n",
    "\n",
    "\n"
   ]
  },
  {
   "cell_type": "markdown",
   "id": "c8454db7-7727-40bd-9d95-55a767dde2ff",
   "metadata": {},
   "source": [
    "In this section, the project will delve into the process of transforming and engineering the data for our movie recommendation system. Additionally, we will build and evaluate predictive models and employ data visualization techniques to gain insights into the performance and characteristics of the models."
   ]
  },
  {
   "cell_type": "markdown",
   "id": "2a1e335f-cca6-483e-bc12-8c7d355996a5",
   "metadata": {},
   "source": [
    "---\n",
    "\n",
    "#### Imports"
   ]
  },
  {
   "cell_type": "code",
   "execution_count": 37,
   "id": "608f8e5f-42f4-4d73-9644-f925b957b147",
   "metadata": {
    "tags": []
   },
   "outputs": [],
   "source": [
    "import pandas as pd\n",
    "import numpy as np\n",
    "\n",
    "from scipy.sparse import csr_matrix\n",
    "\n",
    "#sklearn import\n",
    "from sklearn.preprocessing import MultiLabelBinarizer\n",
    "from sklearn.metrics.pairwise import pairwise_distances, cosine_similarity\n",
    "from sklearn.feature_extraction.text import TfidfVectorizer, CountVectorizer\n",
    "\n",
    "#nltk import\n",
    "import nltk\n",
    "from nltk.corpus import wordnet\n",
    "from nltk.corpus import stopwords\n",
    "from nltk.stem import PorterStemmer, WordNetLemmatizer\n",
    "from nltk.tokenize import word_tokenize\n",
    "\n",
    "import string\n",
    "import json\n"
   ]
  },
  {
   "cell_type": "code",
   "execution_count": 2,
   "id": "9e8c39e1-bd01-4deb-befa-7b810ab8ffc3",
   "metadata": {
    "tags": []
   },
   "outputs": [],
   "source": [
    "tmdb_df = pd.read_csv('../data/tmdb_data.csv')"
   ]
  },
  {
   "cell_type": "code",
   "execution_count": 3,
   "id": "218b3add-203a-475c-bcf2-e559be6a0541",
   "metadata": {
    "tags": []
   },
   "outputs": [
    {
     "data": {
      "text/html": [
       "<div>\n",
       "<style scoped>\n",
       "    .dataframe tbody tr th:only-of-type {\n",
       "        vertical-align: middle;\n",
       "    }\n",
       "\n",
       "    .dataframe tbody tr th {\n",
       "        vertical-align: top;\n",
       "    }\n",
       "\n",
       "    .dataframe thead th {\n",
       "        text-align: right;\n",
       "    }\n",
       "</style>\n",
       "<table border=\"1\" class=\"dataframe\">\n",
       "  <thead>\n",
       "    <tr style=\"text-align: right;\">\n",
       "      <th></th>\n",
       "      <th>adult</th>\n",
       "      <th>backdrop_path</th>\n",
       "      <th>genre_ids</th>\n",
       "      <th>id</th>\n",
       "      <th>original_language</th>\n",
       "      <th>original_title</th>\n",
       "      <th>overview</th>\n",
       "      <th>popularity</th>\n",
       "      <th>poster_path</th>\n",
       "      <th>release_date</th>\n",
       "      <th>...</th>\n",
       "      <th>vote_average</th>\n",
       "      <th>vote_count</th>\n",
       "      <th>directors</th>\n",
       "      <th>cast</th>\n",
       "      <th>popularity_normalized</th>\n",
       "      <th>vote_count_normalized</th>\n",
       "      <th>vote_average_normalized</th>\n",
       "      <th>genre_names</th>\n",
       "      <th>release_year</th>\n",
       "      <th>genre_ids_str</th>\n",
       "    </tr>\n",
       "  </thead>\n",
       "  <tbody>\n",
       "    <tr>\n",
       "      <th>0</th>\n",
       "      <td>False</td>\n",
       "      <td>/4MCKNAc6AbWjEsM2h9Xc29owo4z.jpg</td>\n",
       "      <td>[28, 53, 18]</td>\n",
       "      <td>866398</td>\n",
       "      <td>en</td>\n",
       "      <td>The Beekeeper</td>\n",
       "      <td>One man’s campaign for vengeance takes on nati...</td>\n",
       "      <td>3775.726</td>\n",
       "      <td>/A7EByudX0eOzlkQ2FIbogzyazm2.jpg</td>\n",
       "      <td>2024-01-10</td>\n",
       "      <td>...</td>\n",
       "      <td>7.252</td>\n",
       "      <td>881</td>\n",
       "      <td>David Ayer</td>\n",
       "      <td>Jason Statham, Emmy Raver-Lampman, Bobby Nader...</td>\n",
       "      <td>1.000000</td>\n",
       "      <td>0.025019</td>\n",
       "      <td>0.7252</td>\n",
       "      <td>['Action', 'Thriller', 'Drama']</td>\n",
       "      <td>2024.0</td>\n",
       "      <td>['Action', 'Thriller', 'Drama']</td>\n",
       "    </tr>\n",
       "    <tr>\n",
       "      <th>1</th>\n",
       "      <td>False</td>\n",
       "      <td>/pWsD91G2R1Da3AKM3ymr3UoIfRb.jpg</td>\n",
       "      <td>[28, 878, 18]</td>\n",
       "      <td>933131</td>\n",
       "      <td>ko</td>\n",
       "      <td>황야</td>\n",
       "      <td>After a deadly earthquake turns Seoul into a l...</td>\n",
       "      <td>1734.954</td>\n",
       "      <td>/zVMyvNowgbsBAL6O6esWfRpAcOb.jpg</td>\n",
       "      <td>2024-01-26</td>\n",
       "      <td>...</td>\n",
       "      <td>6.794</td>\n",
       "      <td>245</td>\n",
       "      <td>Heo Myeong-haeng</td>\n",
       "      <td>Ma Dong-seok, Lee Hee-jun, Lee Jun-young, Roh ...</td>\n",
       "      <td>0.455400</td>\n",
       "      <td>0.006958</td>\n",
       "      <td>0.6794</td>\n",
       "      <td>['Action', 'Science Fiction', 'Drama']</td>\n",
       "      <td>2024.0</td>\n",
       "      <td>['Action', 'Science Fiction', 'Drama']</td>\n",
       "    </tr>\n",
       "    <tr>\n",
       "      <th>2</th>\n",
       "      <td>False</td>\n",
       "      <td>/criPrxkTggCra1jch49jsiSeXo1.jpg</td>\n",
       "      <td>[878, 12, 28]</td>\n",
       "      <td>609681</td>\n",
       "      <td>en</td>\n",
       "      <td>The Marvels</td>\n",
       "      <td>Carol Danvers, aka Captain Marvel, has reclaim...</td>\n",
       "      <td>1362.364</td>\n",
       "      <td>/9GBhzXMFjgcZ3FdR9w3bUMMTps5.jpg</td>\n",
       "      <td>2023-11-08</td>\n",
       "      <td>...</td>\n",
       "      <td>6.331</td>\n",
       "      <td>1485</td>\n",
       "      <td>Nia DaCosta</td>\n",
       "      <td>Brie Larson, Teyonah Parris, Iman Vellani, Zaw...</td>\n",
       "      <td>0.355971</td>\n",
       "      <td>0.042172</td>\n",
       "      <td>0.6331</td>\n",
       "      <td>['Science Fiction', 'Adventure', 'Action']</td>\n",
       "      <td>2023.0</td>\n",
       "      <td>['Science Fiction', 'Adventure', 'Action']</td>\n",
       "    </tr>\n",
       "    <tr>\n",
       "      <th>3</th>\n",
       "      <td>False</td>\n",
       "      <td>/yyFc8Iclt2jxPmLztbP617xXllT.jpg</td>\n",
       "      <td>[35, 10751, 14]</td>\n",
       "      <td>787699</td>\n",
       "      <td>en</td>\n",
       "      <td>Wonka</td>\n",
       "      <td>Willy Wonka – chock-full of ideas and determin...</td>\n",
       "      <td>1340.068</td>\n",
       "      <td>/qhb1qOilapbapxWQn9jtRCMwXJF.jpg</td>\n",
       "      <td>2023-12-06</td>\n",
       "      <td>...</td>\n",
       "      <td>7.208</td>\n",
       "      <td>1955</td>\n",
       "      <td>Paul King</td>\n",
       "      <td>Timothée Chalamet, Calah Lane, Keegan-Michael ...</td>\n",
       "      <td>0.350021</td>\n",
       "      <td>0.055519</td>\n",
       "      <td>0.7208</td>\n",
       "      <td>['Comedy', 'Family', 'Fantasy']</td>\n",
       "      <td>2023.0</td>\n",
       "      <td>['Comedy', 'Family', 'Fantasy']</td>\n",
       "    </tr>\n",
       "    <tr>\n",
       "      <th>4</th>\n",
       "      <td>False</td>\n",
       "      <td>/cnqwv5Uz3UW5f086IWbQKr3ksJr.jpg</td>\n",
       "      <td>[28, 12, 14]</td>\n",
       "      <td>572802</td>\n",
       "      <td>en</td>\n",
       "      <td>Aquaman and the Lost Kingdom</td>\n",
       "      <td>Black Manta seeks revenge on Aquaman for his f...</td>\n",
       "      <td>993.425</td>\n",
       "      <td>/7lTnXOy0iNtBAdRP3TZvaKJ77F6.jpg</td>\n",
       "      <td>2023-12-20</td>\n",
       "      <td>...</td>\n",
       "      <td>6.950</td>\n",
       "      <td>1510</td>\n",
       "      <td>James Wan</td>\n",
       "      <td>Jason Momoa, Patrick Wilson, Yahya Abdul-Matee...</td>\n",
       "      <td>0.257516</td>\n",
       "      <td>0.042882</td>\n",
       "      <td>0.6950</td>\n",
       "      <td>['Action', 'Adventure', 'Fantasy']</td>\n",
       "      <td>2023.0</td>\n",
       "      <td>['Action', 'Adventure', 'Fantasy']</td>\n",
       "    </tr>\n",
       "  </tbody>\n",
       "</table>\n",
       "<p>5 rows × 22 columns</p>\n",
       "</div>"
      ],
      "text/plain": [
       "   adult                     backdrop_path        genre_ids      id  \\\n",
       "0  False  /4MCKNAc6AbWjEsM2h9Xc29owo4z.jpg     [28, 53, 18]  866398   \n",
       "1  False  /pWsD91G2R1Da3AKM3ymr3UoIfRb.jpg    [28, 878, 18]  933131   \n",
       "2  False  /criPrxkTggCra1jch49jsiSeXo1.jpg    [878, 12, 28]  609681   \n",
       "3  False  /yyFc8Iclt2jxPmLztbP617xXllT.jpg  [35, 10751, 14]  787699   \n",
       "4  False  /cnqwv5Uz3UW5f086IWbQKr3ksJr.jpg     [28, 12, 14]  572802   \n",
       "\n",
       "  original_language                original_title  \\\n",
       "0                en                 The Beekeeper   \n",
       "1                ko                            황야   \n",
       "2                en                   The Marvels   \n",
       "3                en                         Wonka   \n",
       "4                en  Aquaman and the Lost Kingdom   \n",
       "\n",
       "                                            overview  popularity  \\\n",
       "0  One man’s campaign for vengeance takes on nati...    3775.726   \n",
       "1  After a deadly earthquake turns Seoul into a l...    1734.954   \n",
       "2  Carol Danvers, aka Captain Marvel, has reclaim...    1362.364   \n",
       "3  Willy Wonka – chock-full of ideas and determin...    1340.068   \n",
       "4  Black Manta seeks revenge on Aquaman for his f...     993.425   \n",
       "\n",
       "                        poster_path release_date  ... vote_average  \\\n",
       "0  /A7EByudX0eOzlkQ2FIbogzyazm2.jpg   2024-01-10  ...        7.252   \n",
       "1  /zVMyvNowgbsBAL6O6esWfRpAcOb.jpg   2024-01-26  ...        6.794   \n",
       "2  /9GBhzXMFjgcZ3FdR9w3bUMMTps5.jpg   2023-11-08  ...        6.331   \n",
       "3  /qhb1qOilapbapxWQn9jtRCMwXJF.jpg   2023-12-06  ...        7.208   \n",
       "4  /7lTnXOy0iNtBAdRP3TZvaKJ77F6.jpg   2023-12-20  ...        6.950   \n",
       "\n",
       "   vote_count         directors  \\\n",
       "0         881        David Ayer   \n",
       "1         245  Heo Myeong-haeng   \n",
       "2        1485       Nia DaCosta   \n",
       "3        1955         Paul King   \n",
       "4        1510         James Wan   \n",
       "\n",
       "                                                cast popularity_normalized  \\\n",
       "0  Jason Statham, Emmy Raver-Lampman, Bobby Nader...              1.000000   \n",
       "1  Ma Dong-seok, Lee Hee-jun, Lee Jun-young, Roh ...              0.455400   \n",
       "2  Brie Larson, Teyonah Parris, Iman Vellani, Zaw...              0.355971   \n",
       "3  Timothée Chalamet, Calah Lane, Keegan-Michael ...              0.350021   \n",
       "4  Jason Momoa, Patrick Wilson, Yahya Abdul-Matee...              0.257516   \n",
       "\n",
       "  vote_count_normalized  vote_average_normalized  \\\n",
       "0              0.025019                   0.7252   \n",
       "1              0.006958                   0.6794   \n",
       "2              0.042172                   0.6331   \n",
       "3              0.055519                   0.7208   \n",
       "4              0.042882                   0.6950   \n",
       "\n",
       "                                  genre_names  release_year  \\\n",
       "0             ['Action', 'Thriller', 'Drama']        2024.0   \n",
       "1      ['Action', 'Science Fiction', 'Drama']        2024.0   \n",
       "2  ['Science Fiction', 'Adventure', 'Action']        2023.0   \n",
       "3             ['Comedy', 'Family', 'Fantasy']        2023.0   \n",
       "4          ['Action', 'Adventure', 'Fantasy']        2023.0   \n",
       "\n",
       "                                genre_ids_str  \n",
       "0             ['Action', 'Thriller', 'Drama']  \n",
       "1      ['Action', 'Science Fiction', 'Drama']  \n",
       "2  ['Science Fiction', 'Adventure', 'Action']  \n",
       "3             ['Comedy', 'Family', 'Fantasy']  \n",
       "4          ['Action', 'Adventure', 'Fantasy']  \n",
       "\n",
       "[5 rows x 22 columns]"
      ]
     },
     "execution_count": 3,
     "metadata": {},
     "output_type": "execute_result"
    }
   ],
   "source": [
    "tmdb_df.head()"
   ]
  },
  {
   "cell_type": "markdown",
   "id": "2a7e3f9f-6f17-4983-a939-59065732c1d7",
   "metadata": {},
   "source": [
    "### 1.2.2 Data Transformation/Engineering\n",
    "\n",
    "**Deliverables:**\n",
    "- Feature Engineering: Create new features that might enhance the predictive power of the models, such as extracting information from actors amd directors.\n",
    "- Handle Sparse Data: Address potential sparsity issues in user-item interaction matrices, as sparse data can impact collaborative filtering models.\n",
    "- Encoding: Encode categorical features, ensuring all data is in a format suitable for modeling.\n",
    "\n",
    "---"
   ]
  },
  {
   "cell_type": "markdown",
   "id": "78a4de5c-06ab-4056-9e0f-caa17190a7bb",
   "metadata": {},
   "source": [
    "**Feature Engineering**\n",
    "\n",
    "Create columns that looks at the influences of lead actors/actress and Director popularity"
   ]
  },
  {
   "cell_type": "code",
   "execution_count": 4,
   "id": "36c1e04c-0c0f-4e47-b7cf-b71d80fb45dc",
   "metadata": {
    "tags": []
   },
   "outputs": [],
   "source": [
    "# Define a function to extract the lead actor from the comma-separated list\n",
    "def extract_lead_actor(x):\n",
    "    try:\n",
    "        if not pd.isna(x): #Check if the value is non NaN\n",
    "            cast_list = x.split(', ')\n",
    "            return cast_list[0] if cast_list else None\n",
    "        else:\n",
    "            return None\n",
    "    except Exception as e:\n",
    "        print(f\"Error extracting lead actor: {e}\")\n",
    "        return None\n",
    "\n",
    "# Apply the function to create the lead_actor column\n",
    "tmdb_df['lead_actor'] = tmdb_df['cast'].apply(extract_lead_actor)\n",
    "\n",
    "# Calculate the average user rating for movies featuring each lead actor\n",
    "actor_avg_rating = tmdb_df.groupby('lead_actor')['vote_average'].mean().reset_index()\n",
    "actor_avg_rating.rename(columns={'vote_average': 'lead_actor_avg_rating'}, inplace=True)\n",
    "\n",
    "# Merge the actor average ratings back to df\n",
    "tmdb_df = pd.merge(tmdb_df, actor_avg_rating, how='left', on='lead_actor')\n"
   ]
  },
  {
   "cell_type": "code",
   "execution_count": 5,
   "id": "fe75fca2-2690-4030-b4e7-7a8282a09fc0",
   "metadata": {
    "tags": []
   },
   "outputs": [],
   "source": [
    "def extract_director(x):\n",
    "    try:\n",
    "        if pd.notna(x):  # Check if the value is not NaN\n",
    "            directors_list = json.loads(x)\n",
    "            if directors_list:\n",
    "                return directors_list[0]['name']\n",
    "    except (json.JSONDecodeError, KeyError, IndexError):\n",
    "        pass  # Handle errors by returning None or any default value\n",
    "    return None\n"
   ]
  },
  {
   "cell_type": "code",
   "execution_count": 6,
   "id": "fb60e310-7393-4914-b912-5e081ec8531d",
   "metadata": {
    "tags": []
   },
   "outputs": [],
   "source": [
    "# Create the single director column by extracting the first director name\n",
    "tmdb_df['director'] = tmdb_df['directors'].apply(lambda x: x.split(',')[0] if pd.notna(x) else None)\n",
    "\n",
    "# Calculate the average user rating for movies directed by each director\n",
    "director_avg_rating = tmdb_df.groupby('director')['vote_average'].mean().reset_index()\n",
    "director_avg_rating.rename(columns={'vote_average': 'director_avg_rating'}, inplace=True)\n",
    "\n",
    "# Merge the director average ratings to df\n",
    "tmdb_df = pd.merge(tmdb_df, director_avg_rating, how='left', on='director')\n"
   ]
  },
  {
   "cell_type": "code",
   "execution_count": null,
   "id": "eee873c9-677e-40dd-ac55-6f8823ff2252",
   "metadata": {
    "tags": []
   },
   "outputs": [],
   "source": []
  },
  {
   "cell_type": "markdown",
   "id": "4e43aead-162f-41aa-9499-b2fe25f1de1c",
   "metadata": {},
   "source": [
    "**Handling Sparse Data and Encoding**"
   ]
  },
  {
   "cell_type": "code",
   "execution_count": 7,
   "id": "01b20c4c-74e0-4a65-a4a9-ece56f274234",
   "metadata": {
    "tags": []
   },
   "outputs": [],
   "source": [
    "# Convert the genre_ids_str column to a list of lists\n",
    "tmdb_df['genre_ids_str'] = tmdb_df['genre_ids_str'].apply(eval)"
   ]
  },
  {
   "cell_type": "code",
   "execution_count": 8,
   "id": "8e9e3300-fde5-4677-893f-fb2dac97654d",
   "metadata": {
    "tags": []
   },
   "outputs": [],
   "source": [
    "# Use MultiLabelBinarizer to one-hot encode the genre_ids_str column\n",
    "mlb = MultiLabelBinarizer()\n",
    "genre_encoded = pd.DataFrame(mlb.fit_transform(tmdb_df['genre_ids_str']), columns=mlb.classes_, index=tmdb_df.index)"
   ]
  },
  {
   "cell_type": "code",
   "execution_count": 9,
   "id": "3e311816-85bd-4451-97c7-5f8712492815",
   "metadata": {
    "tags": []
   },
   "outputs": [],
   "source": [
    "# Concatenate the one-hot encoded genres with the original DataFrame\n",
    "tmdb_df = pd.concat([tmdb_df, genre_encoded], axis=1)"
   ]
  },
  {
   "cell_type": "code",
   "execution_count": 10,
   "id": "435fb049-800f-456c-a3b0-1bd8ca2078e1",
   "metadata": {
    "tags": []
   },
   "outputs": [],
   "source": [
    "# Drop the original genre_ids_str column\n",
    "tmdb_df = tmdb_df.drop('genre_ids_str', axis=1)"
   ]
  },
  {
   "cell_type": "code",
   "execution_count": 11,
   "id": "6bbaf65c-e7ec-42f6-8815-91dd96dca730",
   "metadata": {
    "tags": []
   },
   "outputs": [],
   "source": [
    "# Preparing data for building a recommendation system \n",
    "# by handling sparsity and creating a sparse matrix for \n",
    "# Collaborative filtering methods\n",
    "interaction_data = tmdb_df[['popularity_normalized', 'vote_average_normalized', \n",
    "                            'vote_count_normalized', 'release_year', 'lead_actor_avg_rating',\n",
    "                           'director_avg_rating'] + list(mlb.classes_)]"
   ]
  },
  {
   "cell_type": "code",
   "execution_count": 12,
   "id": "cf0bbda3-34fd-4ee9-9d41-d1d94b10dee0",
   "metadata": {
    "tags": []
   },
   "outputs": [
    {
     "data": {
      "text/plain": [
       "popularity_normalized      float64\n",
       "vote_average_normalized    float64\n",
       "vote_count_normalized      float64\n",
       "release_year               float64\n",
       "lead_actor_avg_rating      float64\n",
       "director_avg_rating        float64\n",
       "Action                       int64\n",
       "Adventure                    int64\n",
       "Animation                    int64\n",
       "Comedy                       int64\n",
       "Crime                        int64\n",
       "Documentary                  int64\n",
       "Drama                        int64\n",
       "Family                       int64\n",
       "Fantasy                      int64\n",
       "History                      int64\n",
       "Horror                       int64\n",
       "Music                        int64\n",
       "Mystery                      int64\n",
       "Romance                      int64\n",
       "Science Fiction              int64\n",
       "TV Movie                     int64\n",
       "Thriller                     int64\n",
       "War                          int64\n",
       "Western                      int64\n",
       "dtype: object"
      ]
     },
     "execution_count": 12,
     "metadata": {},
     "output_type": "execute_result"
    }
   ],
   "source": [
    "interaction_data.dtypes"
   ]
  },
  {
   "cell_type": "code",
   "execution_count": 36,
   "id": "e24aa5d6-e360-4e09-9cdc-1fbae398fcf3",
   "metadata": {},
   "outputs": [
    {
     "data": {
      "text/html": [
       "<div>\n",
       "<style scoped>\n",
       "    .dataframe tbody tr th:only-of-type {\n",
       "        vertical-align: middle;\n",
       "    }\n",
       "\n",
       "    .dataframe tbody tr th {\n",
       "        vertical-align: top;\n",
       "    }\n",
       "\n",
       "    .dataframe thead th {\n",
       "        text-align: right;\n",
       "    }\n",
       "</style>\n",
       "<table border=\"1\" class=\"dataframe\">\n",
       "  <thead>\n",
       "    <tr style=\"text-align: right;\">\n",
       "      <th></th>\n",
       "      <th>director_avg_rating</th>\n",
       "      <th>lead_actor_avg_rating</th>\n",
       "      <th>popularity_normalized</th>\n",
       "      <th>vote_average_normalized</th>\n",
       "      <th>vote_count_normalized</th>\n",
       "      <th>release_year</th>\n",
       "      <th>Action</th>\n",
       "      <th>Adventure</th>\n",
       "      <th>Animation</th>\n",
       "      <th>Comedy</th>\n",
       "      <th>...</th>\n",
       "      <th>History</th>\n",
       "      <th>Horror</th>\n",
       "      <th>Music</th>\n",
       "      <th>Mystery</th>\n",
       "      <th>Romance</th>\n",
       "      <th>Science Fiction</th>\n",
       "      <th>TV Movie</th>\n",
       "      <th>Thriller</th>\n",
       "      <th>War</th>\n",
       "      <th>Western</th>\n",
       "    </tr>\n",
       "    <tr>\n",
       "      <th>title</th>\n",
       "      <th></th>\n",
       "      <th></th>\n",
       "      <th></th>\n",
       "      <th></th>\n",
       "      <th></th>\n",
       "      <th></th>\n",
       "      <th></th>\n",
       "      <th></th>\n",
       "      <th></th>\n",
       "      <th></th>\n",
       "      <th></th>\n",
       "      <th></th>\n",
       "      <th></th>\n",
       "      <th></th>\n",
       "      <th></th>\n",
       "      <th></th>\n",
       "      <th></th>\n",
       "      <th></th>\n",
       "      <th></th>\n",
       "      <th></th>\n",
       "      <th></th>\n",
       "    </tr>\n",
       "  </thead>\n",
       "  <tbody>\n",
       "    <tr>\n",
       "      <th>The Beekeeper</th>\n",
       "      <td>6.895333</td>\n",
       "      <td>6.525095</td>\n",
       "      <td>1.000000</td>\n",
       "      <td>0.7252</td>\n",
       "      <td>0.025019</td>\n",
       "      <td>2024.0</td>\n",
       "      <td>1</td>\n",
       "      <td>0</td>\n",
       "      <td>0</td>\n",
       "      <td>0</td>\n",
       "      <td>...</td>\n",
       "      <td>0</td>\n",
       "      <td>0</td>\n",
       "      <td>0</td>\n",
       "      <td>0</td>\n",
       "      <td>0</td>\n",
       "      <td>0</td>\n",
       "      <td>0</td>\n",
       "      <td>1</td>\n",
       "      <td>0</td>\n",
       "      <td>0</td>\n",
       "    </tr>\n",
       "    <tr>\n",
       "      <th>Badland Hunters</th>\n",
       "      <td>6.794000</td>\n",
       "      <td>7.219714</td>\n",
       "      <td>0.455400</td>\n",
       "      <td>0.6794</td>\n",
       "      <td>0.006958</td>\n",
       "      <td>2024.0</td>\n",
       "      <td>1</td>\n",
       "      <td>0</td>\n",
       "      <td>0</td>\n",
       "      <td>0</td>\n",
       "      <td>...</td>\n",
       "      <td>0</td>\n",
       "      <td>0</td>\n",
       "      <td>0</td>\n",
       "      <td>0</td>\n",
       "      <td>0</td>\n",
       "      <td>1</td>\n",
       "      <td>0</td>\n",
       "      <td>0</td>\n",
       "      <td>0</td>\n",
       "      <td>0</td>\n",
       "    </tr>\n",
       "    <tr>\n",
       "      <th>The Marvels</th>\n",
       "      <td>6.181000</td>\n",
       "      <td>5.987000</td>\n",
       "      <td>0.355971</td>\n",
       "      <td>0.6331</td>\n",
       "      <td>0.042172</td>\n",
       "      <td>2023.0</td>\n",
       "      <td>1</td>\n",
       "      <td>1</td>\n",
       "      <td>0</td>\n",
       "      <td>0</td>\n",
       "      <td>...</td>\n",
       "      <td>0</td>\n",
       "      <td>0</td>\n",
       "      <td>0</td>\n",
       "      <td>0</td>\n",
       "      <td>0</td>\n",
       "      <td>1</td>\n",
       "      <td>0</td>\n",
       "      <td>0</td>\n",
       "      <td>0</td>\n",
       "      <td>0</td>\n",
       "    </tr>\n",
       "    <tr>\n",
       "      <th>Wonka</th>\n",
       "      <td>7.336000</td>\n",
       "      <td>6.061600</td>\n",
       "      <td>0.350021</td>\n",
       "      <td>0.7208</td>\n",
       "      <td>0.055519</td>\n",
       "      <td>2023.0</td>\n",
       "      <td>0</td>\n",
       "      <td>0</td>\n",
       "      <td>0</td>\n",
       "      <td>1</td>\n",
       "      <td>...</td>\n",
       "      <td>0</td>\n",
       "      <td>0</td>\n",
       "      <td>0</td>\n",
       "      <td>0</td>\n",
       "      <td>0</td>\n",
       "      <td>0</td>\n",
       "      <td>0</td>\n",
       "      <td>0</td>\n",
       "      <td>0</td>\n",
       "      <td>0</td>\n",
       "    </tr>\n",
       "    <tr>\n",
       "      <th>Aquaman and the Lost Kingdom</th>\n",
       "      <td>7.016300</td>\n",
       "      <td>6.399200</td>\n",
       "      <td>0.257516</td>\n",
       "      <td>0.6950</td>\n",
       "      <td>0.042882</td>\n",
       "      <td>2023.0</td>\n",
       "      <td>1</td>\n",
       "      <td>1</td>\n",
       "      <td>0</td>\n",
       "      <td>0</td>\n",
       "      <td>...</td>\n",
       "      <td>0</td>\n",
       "      <td>0</td>\n",
       "      <td>0</td>\n",
       "      <td>0</td>\n",
       "      <td>0</td>\n",
       "      <td>0</td>\n",
       "      <td>0</td>\n",
       "      <td>0</td>\n",
       "      <td>0</td>\n",
       "      <td>0</td>\n",
       "    </tr>\n",
       "  </tbody>\n",
       "</table>\n",
       "<p>5 rows × 25 columns</p>\n",
       "</div>"
      ],
      "text/plain": [
       "                              director_avg_rating  lead_actor_avg_rating  \\\n",
       "title                                                                      \n",
       "The Beekeeper                            6.895333               6.525095   \n",
       "Badland Hunters                          6.794000               7.219714   \n",
       "The Marvels                              6.181000               5.987000   \n",
       "Wonka                                    7.336000               6.061600   \n",
       "Aquaman and the Lost Kingdom             7.016300               6.399200   \n",
       "\n",
       "                              popularity_normalized  vote_average_normalized  \\\n",
       "title                                                                          \n",
       "The Beekeeper                              1.000000                   0.7252   \n",
       "Badland Hunters                            0.455400                   0.6794   \n",
       "The Marvels                                0.355971                   0.6331   \n",
       "Wonka                                      0.350021                   0.7208   \n",
       "Aquaman and the Lost Kingdom               0.257516                   0.6950   \n",
       "\n",
       "                              vote_count_normalized  release_year  Action  \\\n",
       "title                                                                       \n",
       "The Beekeeper                              0.025019        2024.0       1   \n",
       "Badland Hunters                            0.006958        2024.0       1   \n",
       "The Marvels                                0.042172        2023.0       1   \n",
       "Wonka                                      0.055519        2023.0       0   \n",
       "Aquaman and the Lost Kingdom               0.042882        2023.0       1   \n",
       "\n",
       "                              Adventure  Animation  Comedy  ...  History  \\\n",
       "title                                                       ...            \n",
       "The Beekeeper                         0          0       0  ...        0   \n",
       "Badland Hunters                       0          0       0  ...        0   \n",
       "The Marvels                           1          0       0  ...        0   \n",
       "Wonka                                 0          0       1  ...        0   \n",
       "Aquaman and the Lost Kingdom          1          0       0  ...        0   \n",
       "\n",
       "                              Horror  Music  Mystery  Romance  \\\n",
       "title                                                           \n",
       "The Beekeeper                      0      0        0        0   \n",
       "Badland Hunters                    0      0        0        0   \n",
       "The Marvels                        0      0        0        0   \n",
       "Wonka                              0      0        0        0   \n",
       "Aquaman and the Lost Kingdom       0      0        0        0   \n",
       "\n",
       "                              Science Fiction  TV Movie  Thriller  War  \\\n",
       "title                                                                    \n",
       "The Beekeeper                               0         0         1    0   \n",
       "Badland Hunters                             1         0         0    0   \n",
       "The Marvels                                 1         0         0    0   \n",
       "Wonka                                       0         0         0    0   \n",
       "Aquaman and the Lost Kingdom                0         0         0    0   \n",
       "\n",
       "                              Western  \n",
       "title                                  \n",
       "The Beekeeper                       0  \n",
       "Badland Hunters                     0  \n",
       "The Marvels                         0  \n",
       "Wonka                               0  \n",
       "Aquaman and the Lost Kingdom        0  \n",
       "\n",
       "[5 rows x 25 columns]"
      ]
     },
     "execution_count": 36,
     "metadata": {},
     "output_type": "execute_result"
    }
   ],
   "source": [
    "# columns in the interaction_data_pivot\n",
    "interaction_data_columns = ['director_avg_rating', 'lead_actor_avg_rating', 'popularity_normalized', 'vote_average_normalized', 'vote_count_normalized', 'release_year', 'Action', 'Adventure', 'Animation', 'Comedy', 'Crime', 'Documentary', 'Drama', 'Family', 'Fantasy', 'History', 'Horror', 'Music', 'Mystery', 'Romance', 'Science Fiction', 'TV Movie', 'Thriller', 'War', 'Western']\n",
    "\n",
    "# title as index and  the desired columns\n",
    "interaction_data_pivot = tmdb_df.set_index('title')[interaction_data_columns]\n",
    "\n",
    "interaction_data_pivot.head()\n"
   ]
  },
  {
   "cell_type": "code",
   "execution_count": 14,
   "id": "0dedd569-cb3b-4a5d-8769-9ad9ed22dbde",
   "metadata": {
    "tags": []
   },
   "outputs": [],
   "source": [
    "# Handling Sparse Data: Replace NaN values with 0\n",
    "interaction_matrix = interaction_data.fillna(0)"
   ]
  },
  {
   "cell_type": "code",
   "execution_count": 15,
   "id": "190ead2a-e4c8-41ef-bd98-449121a942d8",
   "metadata": {
    "tags": []
   },
   "outputs": [],
   "source": [
    "#convert into sparse matrix using csr_matrix\n",
    "sparse_interaction_matrix = csr_matrix(interaction_matrix.values)"
   ]
  },
  {
   "cell_type": "code",
   "execution_count": 16,
   "id": "780ad95c-40d1-4a2a-a700-14192d811ca0",
   "metadata": {},
   "outputs": [],
   "source": [
    "# Calculate cosine similarity using sparse matrix\n",
    "sparse_distances = pairwise_distances(sparse_interaction_matrix, metric='cosine')\n",
    "sparse_cosine_similarities = 1.0 - sparse_distances\n"
   ]
  },
  {
   "cell_type": "markdown",
   "id": "e0744f6e-a99c-4bf7-b4f8-bfb95eac3b47",
   "metadata": {},
   "source": [
    "### 1.2.3 Data Modeling\n",
    "\n",
    "\n",
    "**Deliverables:**\n",
    "\n",
    "- Collaborative Filtering: Implement collaborative filtering techniques to make movie recommendations based on user preferences and similarities between users or items.\n",
    "- Content-Based Filtering: Apply content-based filtering approaches to recommend movies based on their features, such as overview, cast, or director and nlp technique.\n",
    "- Hybrid Models: Explore the development of hybrid models that combine collaborative and content-based filtering for improved recommendation accuracy.\n",
    "\n",
    "---"
   ]
  },
  {
   "cell_type": "markdown",
   "id": "61e67dc0-347e-4082-986b-649c03d29535",
   "metadata": {},
   "source": [
    "**Collaborative Filtering**\n",
    "\n",
    "- Created an interaction matrix \n",
    "- Apply collaborative filtering using cosine similarity on interaction_data_pivot\n",
    "- item_similarity_matrix will then be used to recommend movies for a given input movie using the get_movie_recommendations function.\n",
    "- create an iteractive recommendation function that allow users to input their favorite movie and receive recommendations based on their preferences."
   ]
  },
  {
   "cell_type": "code",
   "execution_count": 17,
   "id": "047b1a55-3d6f-4e89-b502-fb238560398c",
   "metadata": {
    "tags": []
   },
   "outputs": [],
   "source": [
    "def recommend_based_on_user_preference(user_preference, tmdb_df):\n",
    "    # Split user input\n",
    "    preferences = [preference.strip() for preference in user_preference.split(',')]\n",
    "\n",
    "    # Filter movies based on user preferences in directors and cast columns\n",
    "    filtered_movies = tmdb_df[\n",
    "        tmdb_df['directors'].apply(lambda x: any(pref.lower() in str(x).lower() for pref in preferences)) |\n",
    "        tmdb_df['cast'].apply(lambda x: any(pref.lower() in str(x).lower() for pref in preferences))\n",
    "    ]\n",
    "\n",
    "    # Sort movies by popularity (can change for other metric)\n",
    "    sorted_movies = filtered_movies.sort_values(by='popularity_normalized', ascending=False)\n",
    "\n",
    "    # Extract recommended movie titles\n",
    "    recommended_movies = sorted_movies['title'].tolist()\n",
    "\n",
    "    return recommended_movies\n"
   ]
  },
  {
   "cell_type": "code",
   "execution_count": 18,
   "id": "3dd188f2-514e-43af-82c2-170d0dccd9ba",
   "metadata": {},
   "outputs": [],
   "source": [
    "item_similarity = cosine_similarity(sparse_interaction_matrix.T, dense_output=False)\n",
    "# interaction_data_pivot is user interaction data\n",
    "item_similarity_matrix = cosine_similarity(interaction_data_pivot.fillna(0))\n",
    "\n",
    "# Function to get movie recommendations based on item similarity\n",
    "def get_movie_recommendations(movie_title, item_similarity_matrix, interaction_data_pivot):\n",
    "    \"\"\"\n",
    "    This function takes a movie title, an item similarity matrix, and a interaction_data_pivot as input.\n",
    "    It returns a list of movie recommendations based on the item similarity of the input movie.\n",
    "    \n",
    "    - movie_title (str): The title of the movie for which recommendations are requested.\n",
    "    - item_similarity_matrix (numpy.ndarray): The item similarity matrix, computed using collaborative filtering\n",
    "      (e.g., cosine similarity on the interaction_data_pivot ).\n",
    "    - interaction_data_pivot (pd.DataFrame): The user-item interaction matrix where rows represent movies, and columns represent various features\n",
    "      like 'director_avg_rating', 'lead_actor_avg_rating', 'popularity_normalized', 'vote_average_normalized', 'vote_count_normalized', 'release_year', and genre indicators.\n",
    "      The values represent movie features or characteristics.\n",
    "    \n",
    "    Returns:\n",
    "    List[str]: A list of recommended movies based on item similarity. \n",
    "    The list is sorted in descending order of similarity.\n",
    "      \n",
    "    \"\"\"\n",
    "    if movie_title in interaction_data_pivot.index:\n",
    "        similar_scores = item_similarity_matrix[interaction_data_pivot.index.get_loc(movie_title)]\n",
    "        similar_movies = list(interaction_data_pivot.index[np.argsort(similar_scores)[::-1]])\n",
    "        return similar_movies[1:]  # Exclude the input movie itself\n",
    "    else:\n",
    "        print(f\"Movie '{movie_title}' not found in the dataset.\")\n",
    "        user_preference = input(\"Enter your preferred actor, genre, or other relevant information: \")\n",
    "        # Perform recommendation based on user's additional input\n",
    "        recommendations = recommend_based_on_user_preference(user_preference, tmdb_df)\n",
    "        return recommendations\n"
   ]
  },
  {
   "cell_type": "code",
   "execution_count": 19,
   "id": "047a0553-24a8-4d21-b762-5a9c6a369aa8",
   "metadata": {
    "tags": []
   },
   "outputs": [],
   "source": [
    "def interactive_movie_recommendation(tmdb_df):\n",
    "    \"\"\"\n",
    "    This function allows users to input their favorite movie and receive recommendations\n",
    "    based on their preferences,including genre, director, actor/actress, and release year range.\n",
    "    \n",
    "    Parameters:\n",
    "    - tmdb_df (pd.DataFrame): DataFrame containing movie data, including columns like 'title', 'genre_names', 'directors',\n",
    "    'cast', 'release_year', 'popularity_normalized', and others.\n",
    "    \n",
    "    Returns:\n",
    "    None\n",
    "    \n",
    "    Note: The function utlizes the 'get_movie_recommendations' function, and the 'item_similarity_matrix' computed\n",
    "    using collaborative filtering (e.g., cosine similarity on the item interaction matrix).\n",
    "    \n",
    "    Example usage:\n",
    "    interactive_movie_recommendation(tmdb_df)\n",
    "    \"\"\"\n",
    "    while True:\n",
    "        # Prompt the user to enter their favorite movie\n",
    "        user_input_movie = input(\"Enter your favorite movie: \")\n",
    "\n",
    "        # Check if the movie exists in the dataset\n",
    "        matching_movies = tmdb_df[tmdb_df['title'].str.lower() == user_input_movie.lower()]\n",
    "\n",
    "        if not matching_movies.empty:\n",
    "            # If the movie is found, recommend similar movies\n",
    "            recommended_movies = get_movie_recommendations(user_input_movie, item_similarity_matrix, interaction_data_pivot)\n",
    "            print(f\"\\nHere are some recommendations based on '{user_input_movie}':\")\n",
    "            print(recommended_movies[:5])\n",
    "        else:\n",
    "            print(f\"Movie '{user_input_movie}' not found in the dataset.\")\n",
    "            print(\"Let's try to find recommendations based on your preferences.\")\n",
    "\n",
    "            while True:\n",
    "                # Prompt the user for their favorite genre, director, or actor/actress\n",
    "                user_preference = input(\"Enter your favorite genre, director, or actor/actress: \")\n",
    "\n",
    "                # Prompt the user for the desired release year range\n",
    "                start_year = int(input(\"Enter the starting year: \"))\n",
    "                end_year = int(input(\"Enter the ending year: \"))\n",
    "\n",
    "                # Filter movies based on user preferences and release year range\n",
    "                filtered_movies = tmdb_df[\n",
    "                    (tmdb_df['genre_names'].apply(lambda x: user_preference.lower() in str(x).lower())) |\n",
    "                    (tmdb_df['directors'].apply(lambda x: user_preference.lower() in str(x).lower())) |\n",
    "                    (tmdb_df['cast'].apply(lambda x: user_preference.lower() in str(x).lower())) &\n",
    "                    (tmdb_df['release_year'].between(start_year, end_year))\n",
    "                ]\n",
    "                print(\"Filtered Movies:\")\n",
    "                print(filtered_movies[['title', 'release_year']])\n",
    "\n",
    "\n",
    "                # Sort movies by popularity\n",
    "                sorted_movies = filtered_movies.sort_values(by='popularity_normalized', ascending=False)\n",
    "\n",
    "                # Extract recommended movie titles\n",
    "                recommended_movies = sorted_movies['title'].tolist()\n",
    "\n",
    "                if not recommended_movies:\n",
    "                    print(\"No movies found based on your preferences.\")\n",
    "                    break\n",
    "\n",
    "                print(f\"\\nHere are some recommendations based on your preferences:\")\n",
    "                print(recommended_movies[:5])\n",
    "\n",
    "                # user feedback\n",
    "                user_feedback = input(\"Do these movies appeal to you? (yes/no): \").lower()\n",
    "\n",
    "                if user_feedback == 'yes':\n",
    "                    print(\"Great! Enjoy watching.\")\n",
    "                    return\n",
    "                elif user_feedback == 'no':\n",
    "                    print(\"Let's try refining your preferences.\")\n",
    "                    continue\n",
    "                else:\n",
    "                    print(\"Invalid input. Please enter 'yes' or 'no'.\")\n",
    "                    continue\n",
    "\n",
    "        #user feedback\n",
    "        user_feedback = input(\"Do these movies appeal to you? (yes/no): \").lower()\n",
    "\n",
    "        if user_feedback == 'yes':\n",
    "            print(\"Great! Enjoy watching.\")\n",
    "            break\n",
    "        elif user_feedback == 'no':\n",
    "            print(\"Sorry to hear that. Let's try refining your preferences.\")\n",
    "            continue\n",
    "        else:\n",
    "            print(\"Invalid input. Please enter 'yes' or 'no'.\")\n",
    "            continue\n"
   ]
  },
  {
   "cell_type": "code",
   "execution_count": 20,
   "id": "0c1a2c1e-e6b8-40db-9818-867e10dc94fb",
   "metadata": {
    "tags": []
   },
   "outputs": [
    {
     "name": "stdin",
     "output_type": "stream",
     "text": [
      "Enter your favorite movie:  Wonka\n"
     ]
    },
    {
     "name": "stdout",
     "output_type": "stream",
     "text": [
      "\n",
      "Here are some recommendations based on 'Wonka':\n",
      "['How the Grinch Stole Christmas', \"Roald Dahl's Matilda the Musical\", \"Roald Dahl's The Witches\", 'Disenchanted', 'Hocus Pocus 2']\n"
     ]
    },
    {
     "name": "stdin",
     "output_type": "stream",
     "text": [
      "Do these movies appeal to you? (yes/no):  no\n"
     ]
    },
    {
     "name": "stdout",
     "output_type": "stream",
     "text": [
      "Sorry to hear that. Let's try refining your preferences.\n"
     ]
    },
    {
     "name": "stdin",
     "output_type": "stream",
     "text": [
      "Enter your favorite movie:  star war\n"
     ]
    },
    {
     "name": "stdout",
     "output_type": "stream",
     "text": [
      "Movie 'star war' not found in the dataset.\n",
      "Let's try to find recommendations based on your preferences.\n"
     ]
    },
    {
     "name": "stdin",
     "output_type": "stream",
     "text": [
      "Enter your favorite genre, director, or actor/actress:  Jason Momoa\n",
      "Enter the starting year:  2015\n",
      "Enter the ending year:  2024\n"
     ]
    },
    {
     "name": "stdout",
     "output_type": "stream",
     "text": [
      "Filtered Movies:\n",
      "                                   title  release_year\n",
      "4           Aquaman and the Lost Kingdom        2023.0\n",
      "43                                Fast X        2023.0\n",
      "46                                  Dune        2021.0\n",
      "68                             The Flash        2023.0\n",
      "101                              Aquaman        2018.0\n",
      "390         Zack Snyder's Justice League        2021.0\n",
      "477                       Justice League        2017.0\n",
      "650   Batman v Superman: Dawn of Justice        2016.0\n",
      "1504                          Sweet Girl        2021.0\n",
      "2934                              Braven        2018.0\n",
      "\n",
      "Here are some recommendations based on your preferences:\n",
      "['Aquaman and the Lost Kingdom', 'Fast X', 'Dune', 'The Flash', 'Aquaman']\n"
     ]
    },
    {
     "name": "stdin",
     "output_type": "stream",
     "text": [
      "Do these movies appeal to you? (yes/no):  no\n"
     ]
    },
    {
     "name": "stdout",
     "output_type": "stream",
     "text": [
      "Let's try refining your preferences.\n"
     ]
    },
    {
     "name": "stdin",
     "output_type": "stream",
     "text": [
      "Enter your favorite genre, director, or actor/actress:  George Lucas\n",
      "Enter the starting year:  2000\n",
      "Enter the ending year:  2023\n"
     ]
    },
    {
     "name": "stdout",
     "output_type": "stream",
     "text": [
      "Filtered Movies:\n",
      "                                             title  release_year\n",
      "397                                      Star Wars        1977.0\n",
      "1840     Star Wars: Episode I - The Phantom Menace        1999.0\n",
      "2022  Star Wars: Episode III - Revenge of the Sith        2005.0\n",
      "2376                             American Graffiti        1973.0\n",
      "2437  Star Wars: Episode II - Attack of the Clones        2002.0\n",
      "2522               Obi-Wan Kenobi: A Jedi's Return        2022.0\n",
      "\n",
      "Here are some recommendations based on your preferences:\n",
      "['Star Wars', 'Star Wars: Episode I - The Phantom Menace', 'Star Wars: Episode III - Revenge of the Sith', 'American Graffiti', 'Star Wars: Episode II - Attack of the Clones']\n"
     ]
    },
    {
     "name": "stdin",
     "output_type": "stream",
     "text": [
      "Do these movies appeal to you? (yes/no):  yes\n"
     ]
    },
    {
     "name": "stdout",
     "output_type": "stream",
     "text": [
      "Great! Enjoy watching.\n"
     ]
    }
   ],
   "source": [
    "# resulting interaction prompt\n",
    "interactive_movie_recommendation(tmdb_df)"
   ]
  },
  {
   "cell_type": "code",
   "execution_count": 21,
   "id": "9f5cebe9-1de9-4cc6-ac20-8e2f8c136a3e",
   "metadata": {
    "tags": []
   },
   "outputs": [
    {
     "name": "stdout",
     "output_type": "stream",
     "text": [
      "2376    1973.0\n",
      "Name: release_year, dtype: float64\n"
     ]
    }
   ],
   "source": [
    "american_graffiti_release_year = tmdb_df.loc[tmdb_df['title'] == 'American Graffiti', 'release_year']\n",
    "print(american_graffiti_release_year)\n"
   ]
  },
  {
   "cell_type": "code",
   "execution_count": 22,
   "id": "c359e2a2-2717-4b67-a68f-b3851ecd088e",
   "metadata": {
    "tags": []
   },
   "outputs": [
    {
     "name": "stdout",
     "output_type": "stream",
     "text": [
      "float64\n"
     ]
    }
   ],
   "source": [
    "print(tmdb_df['release_year'].dtype)\n"
   ]
  },
  {
   "cell_type": "markdown",
   "id": "f411a87d-d691-4f64-bc68-b305d33840f4",
   "metadata": {},
   "source": [
    "**Content Based Filtering**\n",
    "\n",
    "<ins>Text preprocessing step:</ins> \n",
    "- Lowercasing: Convert all text to lowercase to ensure consistency.\n",
    "- Tokenization: Break down the text into individual words or tokens.\n",
    "- Removing Stopwords: Exclude common words that don't carry much meaning (e.g., \"the,\" \"and,\" \"is\").\n",
    "- Removing Punctuation and Special Characters: Keep only alphanumeric characters and relevant symbols.\n",
    "- Stemming or Lemmatization: Reduce words to their base or root form for better feature representation.\n",
    "\n",
    "<ins>Feature Extraction:</ins>\n",
    "-  convert the text into numerical features (TF-IDF or Cvec)"
   ]
  },
  {
   "cell_type": "code",
   "execution_count": 28,
   "id": "20e9d281-0024-4718-a938-d69703ce0a20",
   "metadata": {
    "tags": []
   },
   "outputs": [
    {
     "name": "stderr",
     "output_type": "stream",
     "text": [
      "[nltk_data] Downloading package stopwords to\n",
      "[nltk_data]     /Users/aamad_000/nltk_data...\n",
      "[nltk_data]   Package stopwords is already up-to-date!\n",
      "[nltk_data] Downloading package averaged_perceptron_tagger to\n",
      "[nltk_data]     /Users/aamad_000/nltk_data...\n",
      "[nltk_data]   Package averaged_perceptron_tagger is already up-to-\n",
      "[nltk_data]       date!\n",
      "[nltk_data] Downloading package punkt to /Users/aamad_000/nltk_data...\n",
      "[nltk_data]   Package punkt is already up-to-date!\n"
     ]
    },
    {
     "data": {
      "text/plain": [
       "True"
      ]
     },
     "execution_count": 28,
     "metadata": {},
     "output_type": "execute_result"
    }
   ],
   "source": [
    "nltk.download('stopwords')\n",
    "nltk.download('averaged_perceptron_tagger')\n",
    "nltk.download('punkt')"
   ]
  },
  {
   "cell_type": "code",
   "execution_count": 40,
   "id": "34dec715-10a9-4b38-a358-77e4d23ca361",
   "metadata": {
    "tags": []
   },
   "outputs": [],
   "source": [
    "#functions for text preprocessing \n",
    "#\n",
    "def preprocess_text(text):\n",
    "    #lowcasing\n",
    "    text = text.lower()\n",
    "    \n",
    "    #tokenization\n",
    "    tokens = word_tokenize(text)\n",
    "    \n",
    "    #removing stopwords and punctuation\n",
    "    stop_words = set(stopwords.words('english'))\n",
    "    tokens = [token for token in tokens if token.isalnum() and token not in stop_words]\n",
    "    \n",
    "    #Stemming\n",
    "    stemmer = PorterStemmer()\n",
    "    tokens = [stemmer.stem(token) for token in tokens]\n",
    "    \n",
    "    return ' '.join(tokens)\n",
    "\n",
    "def get_wordnet_pos(word):\n",
    "    tag = nltk.pos_tag([word])[0][1][0].upper()\n",
    "    tag_dict = {\"N\": wordnet.NOUN, \"V\": wordnet.VERB, \"R\": wordnet.ADV, \"J\": wordnet.ADJ}\n",
    "    return tag_dict.get(tag, wordnet.NOUN)\n",
    "\n",
    "def lemmatize_text(text):\n",
    "    \n",
    "    if pd.isnull(text):  # Check for NaN values\n",
    "        return ''\n",
    "    \n",
    "    lemmatizer = WordNetLemmatizer()\n",
    "    stop_words = set(stopwords.words('english'))\n",
    "    \n",
    "    tokens = word_tokenize(text)\n",
    "    filtered_tokens = [token.lower() for token in tokens if token.isalpha() and token.lower() not in stop_words]\n",
    "\n",
    "    lemmatized_tokens = [lemmatizer.lemmatize(token, get_wordnet_pos(token)) for token in filtered_tokens]\n",
    "    return ' '.join(lemmatized_tokens)\n"
   ]
  },
  {
   "cell_type": "code",
   "execution_count": 35,
   "id": "8aebf83f-10b3-4ffe-8c74-1a09860874fa",
   "metadata": {
    "tags": []
   },
   "outputs": [
    {
     "name": "stdout",
     "output_type": "stream",
     "text": [
      "galaxy far far away\n"
     ]
    }
   ],
   "source": [
    "# overview_example = \"In a GALAXY far, far away...\"\n",
    "# preprocessed_overview = lemmatize_text(overview_example)\n",
    "# print(preprocessed_overview)"
   ]
  },
  {
   "cell_type": "code",
   "execution_count": 41,
   "id": "ce66b25e-c492-4070-8922-249037f01544",
   "metadata": {
    "tags": []
   },
   "outputs": [],
   "source": [
    "tmdb_df['preprocessed_overview'] = tmdb_df['overview'].apply(lemmatize_text)"
   ]
  },
  {
   "cell_type": "markdown",
   "id": "cc51946e-1d98-46bc-8080-2ef1c19bc2ea",
   "metadata": {},
   "source": [
    "### 1.2.4 Data Visualization\n",
    "\n",
    "\n",
    "**Deliverables:**\n",
    "\n",
    "- Model Evaluation: Visualize the performance of different recommendation models using metrics such as precision, recall, and accuracy.\n",
    "- Feature Importance: Gain insights into the importance of different features in the models through visualizations, aiding in model interpretation.\n",
    "- User-Item Interaction: Visualize patterns in user-item interaction matrices to understand user preferences and item popularity.\n",
    "\n",
    "---"
   ]
  },
  {
   "cell_type": "code",
   "execution_count": null,
   "id": "e8cf1f61-72f9-4009-befa-4cd5a33f1d84",
   "metadata": {},
   "outputs": [],
   "source": []
  }
 ],
 "metadata": {
  "kernelspec": {
   "display_name": "Python 3 (ipykernel)",
   "language": "python",
   "name": "python3"
  },
  "language_info": {
   "codemirror_mode": {
    "name": "ipython",
    "version": 3
   },
   "file_extension": ".py",
   "mimetype": "text/x-python",
   "name": "python",
   "nbconvert_exporter": "python",
   "pygments_lexer": "ipython3",
   "version": "3.11.5"
  }
 },
 "nbformat": 4,
 "nbformat_minor": 5
}
