{
 "cells": [
  {
   "cell_type": "markdown",
   "id": "89b0c4ba-dd0b-4358-83ec-dab972eba75e",
   "metadata": {},
   "source": [
    "# The Cinematic Nexus: Unveiling the Future of Movie Recommendations and Analysis\n",
    "\n",
    "by Anthony Amadasun\n",
    "\n",
    "## 1.3 Streamlit Application and Evaluation \n",
    "\n",
    "---"
   ]
  },
  {
   "cell_type": "markdown",
   "id": "b804992b-f67a-4b3d-9ff3-9696acadf518",
   "metadata": {},
   "source": [
    "### 1.3.1 Introduction\n",
    "\n",
    "\n"
   ]
  },
  {
   "cell_type": "markdown",
   "id": "1d0822d7-968f-4c5f-90a7-69e5322952a3",
   "metadata": {},
   "source": [
    "In this section, the project will focus on developing a Streamlit application that serves as the user interface for our movie recommendation and analysis platform. Moreover, will evaluate the performance of our movie recommendation system, provide an executive summary of our findings, offer recommendations for further improvement, and conclude our project."
   ]
  },
  {
   "cell_type": "markdown",
   "id": "33bc332f-e629-4dab-b172-d6e93390be07",
   "metadata": {},
   "source": [
    "---\n",
    "\n",
    "#### Imports"
   ]
  },
  {
   "cell_type": "code",
   "execution_count": null,
   "id": "c65b9146-baa0-4bce-8056-b42b8f3b6a8d",
   "metadata": {},
   "outputs": [],
   "source": []
  }
 ],
 "metadata": {
  "kernelspec": {
   "display_name": "Python 3 (ipykernel)",
   "language": "python",
   "name": "python3"
  },
  "language_info": {
   "codemirror_mode": {
    "name": "ipython",
    "version": 3
   },
   "file_extension": ".py",
   "mimetype": "text/x-python",
   "name": "python",
   "nbconvert_exporter": "python",
   "pygments_lexer": "ipython3",
   "version": "3.11.5"
  }
 },
 "nbformat": 4,
 "nbformat_minor": 5
}
