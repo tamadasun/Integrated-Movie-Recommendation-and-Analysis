{
 "cells": [
  {
   "cell_type": "markdown",
   "id": "89b0c4ba-dd0b-4358-83ec-dab972eba75e",
   "metadata": {},
   "source": [
    "# The Cinematic Nexus: Unveiling the Future of Movie Recommendations and Analysis\n",
    "\n",
    "by Anthony Amadasun\n",
    "\n",
    "## 1.3 Streamlit Application and Evaluation \n",
    "\n",
    "---"
   ]
  },
  {
   "cell_type": "markdown",
   "id": "b804992b-f67a-4b3d-9ff3-9696acadf518",
   "metadata": {},
   "source": [
    "### 1.3.1 Introduction\n",
    "\n",
    "\n"
   ]
  },
  {
   "cell_type": "markdown",
   "id": "1d0822d7-968f-4c5f-90a7-69e5322952a3",
   "metadata": {},
   "source": [
    "In this section, the project will focus on developing a Streamlit application that serves as the user interface for our movie recommendation and analysis platform. Moreover, will evaluate the performance of our movie recommendation system, provide an executive summary of our findings, offer recommendations for further improvement, and conclude our project."
   ]
  },
  {
   "cell_type": "markdown",
   "id": "33bc332f-e629-4dab-b172-d6e93390be07",
   "metadata": {},
   "source": [
    "---\n",
    "\n",
    "#### Imports"
   ]
  },
  {
   "cell_type": "code",
   "execution_count": null,
   "id": "c65b9146-baa0-4bce-8056-b42b8f3b6a8d",
   "metadata": {
    "tags": []
   },
   "outputs": [],
   "source": [
    "#gensim imports\n",
    "from gensim.models import Doc2Vec\n",
    "from gensim.models.doc2vec import TaggedDocument"
   ]
  },
  {
   "cell_type": "code",
   "execution_count": null,
   "id": "67d11413-1dc7-4d7d-aeb1-596d9d54cd53",
   "metadata": {},
   "outputs": [],
   "source": []
  },
  {
   "cell_type": "code",
   "execution_count": null,
   "id": "602aadf1-5985-48c9-a394-072c6da3ccd5",
   "metadata": {},
   "outputs": [],
   "source": []
  },
  {
   "cell_type": "code",
   "execution_count": null,
   "id": "ddd02675-f6fe-4cdb-84ef-fa6da2efb240",
   "metadata": {},
   "outputs": [],
   "source": []
  },
  {
   "cell_type": "markdown",
   "id": "732ebdfb-3de9-4876-af91-ea87d63d597d",
   "metadata": {},
   "source": [
    "**chatbot gensim model (alpha version)**"
   ]
  },
  {
   "cell_type": "code",
   "execution_count": null,
   "id": "939a1ea5-0082-4cb0-b7e8-705b157f888b",
   "metadata": {},
   "outputs": [],
   "source": [
    "# documents = [TaggedDocument(words=doc.split(), \n",
    "#                             tags=[str(i)]) for i, doc in enumerate(tmdb_df['preprocessed_overview'])]"
   ]
  },
  {
   "cell_type": "code",
   "execution_count": null,
   "id": "838abe83-d5e2-4dbe-9ff9-9095f53645d5",
   "metadata": {},
   "outputs": [],
   "source": [
    "# #Train a Doc2Vec model\n",
    "# doc2vec_model = Doc2Vec(vector_size=100, window=5, min_count=1, workers=4, epochs=20)\n",
    "# doc2vec_model.build_vocab(documents)\n",
    "# doc2vec_model.train(documents, total_examples=doc2vec_model.corpus_count, epochs=doc2vec_model.epochs)"
   ]
  },
  {
   "cell_type": "code",
   "execution_count": null,
   "id": "4926e8e8-f2bf-45a7-adf8-697850009d3d",
   "metadata": {},
   "outputs": [],
   "source": [
    "# def recommend_based_on_user_input(user_input, model, data):\n",
    "#     # Convert user input into a document embedding\n",
    "#     user_embedding = model.infer_vector(user_input.split())\n",
    "\n",
    "#     # Get similar movies using most_similar method\n",
    "#     similar_movies = model.dv.most_similar([user_embedding], topn=len(model.dv))\n",
    "\n",
    "#     # Extract movie indices from the similar_movies result\n",
    "#     similar_movie_indices = [int(idx) for idx, _ in similar_movies]\n",
    "\n",
    "#     # Get movie titles based on indices\n",
    "#     recommended_movies = data.iloc[similar_movie_indices]['title'].tolist()\n",
    "\n",
    "#     return recommended_movies"
   ]
  },
  {
   "cell_type": "code",
   "execution_count": null,
   "id": "f6a6e0b9-4a76-4cba-91b3-ea8262313cc0",
   "metadata": {},
   "outputs": [],
   "source": [
    "# user_input = \"soccer\"\n",
    "# recommended_movies = recommend_based_on_user_input(user_input, doc2vec_model, tmdb_df)\n",
    "# print(recommended_movies[:7])"
   ]
  }
 ],
 "metadata": {
  "kernelspec": {
   "display_name": "Python 3 (ipykernel)",
   "language": "python",
   "name": "python3"
  },
  "language_info": {
   "codemirror_mode": {
    "name": "ipython",
    "version": 3
   },
   "file_extension": ".py",
   "mimetype": "text/x-python",
   "name": "python",
   "nbconvert_exporter": "python",
   "pygments_lexer": "ipython3",
   "version": "3.11.5"
  }
 },
 "nbformat": 4,
 "nbformat_minor": 5
}
