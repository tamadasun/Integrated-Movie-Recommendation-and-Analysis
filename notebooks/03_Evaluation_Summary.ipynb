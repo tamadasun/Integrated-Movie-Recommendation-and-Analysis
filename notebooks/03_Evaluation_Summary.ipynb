{
 "cells": [
  {
   "cell_type": "markdown",
   "id": "89b0c4ba-dd0b-4358-83ec-dab972eba75e",
   "metadata": {},
   "source": [
    "# The Cinematic Nexus: Unveiling the Future of Movie Recommendations and Analysis\n",
    "\n",
    "by Anthony Amadasun\n",
    "\n",
    "## 1.3 Evalutaion Assessment/Executive Summary/Recommendation\n",
    "\n",
    "---"
   ]
  },
  {
   "cell_type": "markdown",
   "id": "b804992b-f67a-4b3d-9ff3-9696acadf518",
   "metadata": {},
   "source": [
    "### 1.3.1 Introduction\n",
    "\n",
    "\n"
   ]
  },
  {
   "cell_type": "markdown",
   "id": "1d0822d7-968f-4c5f-90a7-69e5322952a3",
   "metadata": {},
   "source": [
    "Our objective in this section is to assess the performance of our movie recommendation system and gain valuable insights from it.  An important objective of this notebook is to evaluate the effectiveness of the recommendation models used, as well as to identify areas of improvement. The framework for our evaluation consists of a detailed analysis of various metrics, a deep dive into the collaborative, content-based filtering models and K-mean genre clustering models for the validation of specific modifications.\n",
    "\n",
    "Through this evaluation, we hope to provide movie enthusiasts with a clear understanding of how well our recommendation system aligns with thier preferences, ultimately guiding them toward better informed decisions when selecting their next move and also help the system learn more about future enhancements. Through metrics assessment model analysis, and hypothesis testing, we will unravel the complexities of our system, celebrating its successes and addressing any challenges encountered. This section will conclude by paving the way for the next steps in refining our movie recommendation system. "
   ]
  },
  {
   "cell_type": "markdown",
   "id": "33bc332f-e629-4dab-b172-d6e93390be07",
   "metadata": {},
   "source": [
    "---\n",
    "\n",
    "#### Imports"
   ]
  },
  {
   "cell_type": "code",
   "execution_count": 26,
   "id": "c65b9146-baa0-4bce-8056-b42b8f3b6a8d",
   "metadata": {
    "tags": []
   },
   "outputs": [],
   "source": [
    "import pandas as pd\n",
    "import numpy as np\n",
    "import matplotlib.pyplot as plt\n",
    "\n",
    "\n",
    "#nltk import\n",
    "import nltk\n",
    "from nltk.corpus import wordnet\n",
    "from nltk.corpus import stopwords\n",
    "from nltk.stem import PorterStemmer, WordNetLemmatizer\n",
    "from nltk.tokenize import word_tokenize\n",
    "\n",
    "#gensim imports\n",
    "from gensim.models import Doc2Vec\n",
    "from gensim.models.doc2vec import TaggedDocument"
   ]
  },
  {
   "cell_type": "code",
   "execution_count": 27,
   "id": "f2774f1b-5dc0-43c7-8575-241222119e39",
   "metadata": {
    "tags": []
   },
   "outputs": [],
   "source": [
    "tmdb_df = pd.read_csv('../data/tmdb_data.csv')"
   ]
  },
  {
   "cell_type": "markdown",
   "id": "a17addc4-48ce-466e-9c3d-20e49e51966d",
   "metadata": {
    "tags": []
   },
   "source": [
    "----\n",
    "\n",
    "### 1.3.2 Model Filtering Assessment and Analysis\n",
    "\n",
    "\n"
   ]
  },
  {
   "cell_type": "markdown",
   "id": "d93b1f20-9bea-408c-8e68-8099204569d5",
   "metadata": {},
   "source": [
    "#### Collaborative-Based Approach\n",
    "\n",
    "<ins> **Steps:**</ins> \n",
    "\n",
    "1. Created an interaction matrix.\n",
    "2. Applied collaborative filtering using cosine similarity on interaction_data_pivot.\n",
    "3. Utilized item_similarity_matrix to recommend movies for a given input movie using the get_movie_recommendations function.\n",
    "4. Implemented an interactive recommendation function that allows users to input their favorite movie and receive recommendations based on their preferences.\n",
    "\n",
    "<ins> **Findings**</ins> \n",
    "\n",
    "- Collaborative filtering excels in capturing user preferences by leveraging their interaction history.\n",
    "- Recommendations are based on the similarity between movies and users' historical preferences.\n",
    "- Well-suited for users with clear preferences and substantial interaction history.\n",
    "\n",
    "#### Content-Based Approach:\n",
    "\n",
    "<ins> **Steps:**</ins> \n",
    "\n",
    "1. Text preprocessing steps, including lowercasing, tokenization, removing stopwords, and stemming/lemmatization.\n",
    "2. Feature extraction by converting text into numerical features (TF-IDF or Count Vectorizer).\n",
    "3. Combined features and calculated similarity.\n",
    "4. Implemented a function to get similar movies based on a given movie title.\n",
    "\n",
    "<ins> **Findings**</ins> \n",
    "\n",
    "- Content-based filtering relies on the inherent characteristics of movies (genre, director, cast, etc.).\n",
    "- Recommendations are based on the similarity of content features.\n",
    "- Effective for users with specific preferences for genres, directors, or actors/actresses.\n",
    "\n",
    "#### K-Means Genre Cluster Approach:\n",
    "\n",
    "<ins> **Steps:**</ins> \n",
    "\n",
    "1. Selected features for clustering (vote_average, popularity).\n",
    "2. Fit KMeans on the original features with the correct number of clusters (19 in this case).\n",
    "3. Plotted a scatter plot of data points with unique colors for each movie.\n",
    "4. Showcased centroids representing the average characteristics of each genre cluster.\n",
    "\n",
    "<ins> **Findings**</ins> \n",
    "\n",
    "- K-Means clustering groups movies into clusters based on their vote averages and popularity scores.\n",
    "- Each cluster represents a distinct genre based on similar characteristics.\n",
    "- Useful for identifying clusters of movies with shared characteristics.\n",
    "\n",
    "#### Comparative Analysis and Improvement Suggestions:\n",
    "\n",
    "<ins> **Comparison Analysis:**</ins> \n",
    "\n",
    "- Collaborative-Based Approach: Effective for diverse user preferences and leveraging historical interactions.\n",
    "- Content-Based Approach: Ideal for users with specific content preferences and focuses on movie characteristics.\n",
    "- K-Means Genre Cluster Approach: Useful for identifying groups of movies with similar characteristics.\n",
    "\n",
    "<ins> **Improvement Suggestion:**</ins> \n",
    "\n",
    "1. Consider hybrid models combining collaborative and content-based filtering for a more comprehensive approach.\n",
    "2. Fine-tune clustering parameters for K-Means to enhance genre cluster accuracy.\n",
    "3. Incorporate additional features for content-based filtering to improve recommendation precision.\n",
    "4. Gather more user interaction data for collaborative filtering to enhance model accuracy."
   ]
  },
  {
   "cell_type": "markdown",
   "id": "254b73b1-20a3-463d-a684-e912072490aa",
   "metadata": {},
   "source": [
    "----\n",
    "\n",
    "### 1.3.3 Hypothesis Testing\n",
    "\n"
   ]
  },
  {
   "cell_type": "markdown",
   "id": "54a0d791-7395-4f0c-a7ca-3a891fc41c22",
   "metadata": {},
   "source": [
    "- Null Hypothesis: The accuracy of movie recommendations remains equivalent between collaborative filtering (user preference) and content-based filtering (advanced preference) models.\n",
    "\n",
    "- Alternative Hypothesis: The accuracy of movie recommendations significantly differs between collaborative filtering (user preference) and content-based filtering (advanced preference) models.\n",
    "\n",
    "Conclusion: The hypothesis testing results reveal difference in the accuracy of movie recommendations between the collaborative filtering (user preference) and content-based filtering (advanced preference) models. The collaborative-based approach is powerful for capturing user preferences, while the content-based approach excels in recommending movies based on inherent characteristics. The optional model of K-Means genre cluster approach offers insights into genre-based grouping but requires fine-tuning for optimal results.\n",
    "\n",
    "In summary, the rejection of the null hypothesis suggests that the introduction of advanced preferences had a notable impact on the accuracy of movie recommendations. The collaborative-based approach excelled in capturing user preferences, while the content-based approach leveraged inherent movie characteristics for recommendations. These findings contribute valuable insights to guide further enhancements and optimizations in the movie recommendation system."
   ]
  },
  {
   "cell_type": "markdown",
   "id": "6b5c46c5-287e-4332-a3bc-74c92f47578a",
   "metadata": {},
   "source": [
    "----\n",
    "\n",
    "### 1.3.4 Conclusion and Future Recommendation\n"
   ]
  },
  {
   "cell_type": "markdown",
   "id": "82ee8b9a-e5ad-404a-b67f-3edfca8fa59a",
   "metadata": {},
   "source": [
    "**Conclusion:**\n",
    "\n",
    "Throughout this arduous process, the development and evaluation of the movie recommendation system has uncovered valuable insights into the effectiveness of different approaches. The hypothesis testing revealed a differences in the accuracy of movie recommendations between the collaborative (user preference) and content-based (advanced preference) filtering models.\n",
    "\n",
    "- Collaborative Filtering: Proved powerful in capturing user preferences, offering personalized recommendations based on historical interactions.\n",
    "- Content-Based Filtering: Excelled in recommending movies based on inherent characteristics, providing diversity beyond user history.\n",
    "\n",
    "The optional inclusion of the K-Means genre cluster approach showcased potential insights into genre-based grouping but requires further fine-tuning for optimal results.\n",
    "\n",
    "**Future Recommendation**\n",
    "\n",
    "1. Integration of Chatbot (Alpha Version):\n",
    "\n",
    "- Objective: Enhance user experience and gather preferences seamlessly.\n",
    "- Approach: Develop a version of a chatbot using Gensim models to understand and respond to user preferences and feedback.\n",
    "- Benefits: Improved user engagement, real-time preference extraction, and expanded dataset for recommendation models.\n",
    "\n",
    "2. Fine-Tuning of K-Means Genre Cluster Approach:\n",
    "\n",
    "- Objective: Optimize genre-based clustering for more accurate genre-based recommendations.\n",
    "- Approach: Experiment with different cluster counts, feature selections, and clustering algorithms to improve the grouping of movies.\n",
    "- Benefits: Enhanced genre-specific recommendations, providing a complementary approach to user and content-based models.\n",
    "\n",
    "3. Hybrid Model Integration:\n",
    "\n",
    "- Objective: Combine strengths of collaborative and content-based models for a comprehensive recommendation system.\n",
    "- Approach: Develop a hybrid model that intelligently blends collaborative and content-based recommendations.\n",
    "- Benefits: Leverage the strengths of both models to overcome individual limitations, providing more robust and diverse recommendations.\n",
    "\n",
    "**Final Note:**\n",
    "\n",
    "The conclusion of this project marks a milestone in the development of a movie recommendation system, and has the outlined a path for an even more sophisticated and user-centric movie recommendation system. The incorporation of a chatbot, refinement of existing models, and exploration of hybrid approaches promise an exciting path forward in delivering unparalleled cinematic recommendations and truly creating a cinematic nexus."
   ]
  },
  {
   "cell_type": "markdown",
   "id": "732ebdfb-3de9-4876-af91-ea87d63d597d",
   "metadata": {},
   "source": [
    "**chatbot gensim model (alpha version)**"
   ]
  },
  {
   "cell_type": "code",
   "execution_count": 28,
   "id": "1b593c16-5156-4bda-971c-6428b708f212",
   "metadata": {
    "tags": []
   },
   "outputs": [],
   "source": [
    "#functions for text preprocessing \n",
    "#\n",
    "def preprocess_text(text):\n",
    "    #lowcasing\n",
    "    text = text.lower()\n",
    "    \n",
    "    #tokenization\n",
    "    tokens = word_tokenize(text)\n",
    "    \n",
    "    #removing stopwords and punctuation\n",
    "    stop_words = set(stopwords.words('english'))\n",
    "    tokens = [token for token in tokens if token.isalnum() and token not in stop_words]\n",
    "    \n",
    "    #Stemming\n",
    "    stemmer = PorterStemmer()\n",
    "    tokens = [stemmer.stem(token) for token in tokens]\n",
    "    \n",
    "    return ' '.join(tokens)\n",
    "\n",
    "def get_wordnet_pos(word):\n",
    "    tag = nltk.pos_tag([word])[0][1][0].upper()\n",
    "    tag_dict = {\"N\": wordnet.NOUN, \"V\": wordnet.VERB, \"R\": wordnet.ADV, \"J\": wordnet.ADJ}\n",
    "    return tag_dict.get(tag, wordnet.NOUN)\n",
    "\n",
    "def lemmatize_text(text):\n",
    "    \n",
    "    if pd.isnull(text):  # Check for NaN values\n",
    "        return ''\n",
    "    \n",
    "    lemmatizer = WordNetLemmatizer()\n",
    "    stop_words = set(stopwords.words('english'))\n",
    "    \n",
    "    tokens = word_tokenize(text)\n",
    "    filtered_tokens = [token.lower() for token in tokens if token.isalpha() and token.lower() not in stop_words]\n",
    "\n",
    "    lemmatized_tokens = [lemmatizer.lemmatize(token, get_wordnet_pos(token)) for token in filtered_tokens]\n",
    "    return ' '.join(lemmatized_tokens)\n"
   ]
  },
  {
   "cell_type": "code",
   "execution_count": 29,
   "id": "b559601d-1a44-4d1e-99bc-c2776cd7d483",
   "metadata": {
    "tags": []
   },
   "outputs": [],
   "source": [
    "tmdb_df['preprocessed_overview'] = tmdb_df['overview'].apply(lemmatize_text)"
   ]
  },
  {
   "cell_type": "code",
   "execution_count": 30,
   "id": "939a1ea5-0082-4cb0-b7e8-705b157f888b",
   "metadata": {},
   "outputs": [],
   "source": [
    "documents = [TaggedDocument(words=doc.split(), \n",
    "                            tags=[str(i)]) for i, doc in enumerate(tmdb_df['preprocessed_overview'])]"
   ]
  },
  {
   "cell_type": "code",
   "execution_count": 31,
   "id": "838abe83-d5e2-4dbe-9ff9-9095f53645d5",
   "metadata": {},
   "outputs": [],
   "source": [
    "#Train a Doc2Vec model\n",
    "doc2vec_model = Doc2Vec(vector_size=100, window=5, min_count=1, workers=4, epochs=20)\n",
    "doc2vec_model.build_vocab(documents)\n",
    "doc2vec_model.train(documents, total_examples=doc2vec_model.corpus_count, epochs=doc2vec_model.epochs)"
   ]
  },
  {
   "cell_type": "code",
   "execution_count": 32,
   "id": "4926e8e8-f2bf-45a7-adf8-697850009d3d",
   "metadata": {},
   "outputs": [],
   "source": [
    "def recommend_based_on_user_input(user_input, model, data):\n",
    "    # Convert user input into a document embedding\n",
    "    user_embedding = model.infer_vector(user_input.split())\n",
    "\n",
    "    # Get similar movies using most_similar method\n",
    "    similar_movies = model.dv.most_similar([user_embedding], topn=len(model.dv))\n",
    "\n",
    "    # Extract movie indices from the similar_movies result\n",
    "    similar_movie_indices = [int(idx) for idx, _ in similar_movies]\n",
    "\n",
    "    # Get movie titles based on indices\n",
    "    recommended_movies = data.iloc[similar_movie_indices]['title'].tolist()\n",
    "\n",
    "    return recommended_movies"
   ]
  },
  {
   "cell_type": "code",
   "execution_count": 33,
   "id": "f6a6e0b9-4a76-4cba-91b3-ea8262313cc0",
   "metadata": {},
   "outputs": [
    {
     "name": "stdout",
     "output_type": "stream",
     "text": [
      "['Detective Conan: Black Iron Submarine', 'The Happening', 'Dredd', 'The Man with the Golden Gun', 'RoboCop 3', 'Independence Day', 'U.S. Marshals']\n"
     ]
    }
   ],
   "source": [
    "user_input = \"japan\"\n",
    "recommended_movies = recommend_based_on_user_input(user_input, doc2vec_model, tmdb_df)\n",
    "print(recommended_movies[:7])"
   ]
  },
  {
   "cell_type": "code",
   "execution_count": null,
   "id": "75caea10-c813-47a2-8444-ce1b22cece7e",
   "metadata": {},
   "outputs": [],
   "source": []
  }
 ],
 "metadata": {
  "kernelspec": {
   "display_name": "Python 3 (ipykernel)",
   "language": "python",
   "name": "python3"
  },
  "language_info": {
   "codemirror_mode": {
    "name": "ipython",
    "version": 3
   },
   "file_extension": ".py",
   "mimetype": "text/x-python",
   "name": "python",
   "nbconvert_exporter": "python",
   "pygments_lexer": "ipython3",
   "version": "3.11.5"
  }
 },
 "nbformat": 4,
 "nbformat_minor": 5
}
