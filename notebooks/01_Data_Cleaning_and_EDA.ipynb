{
 "cells": [
  {
   "cell_type": "markdown",
   "id": "411cc753-8152-4634-80a5-2664555401eb",
   "metadata": {
    "tags": []
   },
   "source": [
    "# The Cinematic Nexus: Unveiling the Future of Movie Recommendations and Analysis\n",
    "\n",
    "by Anthony Amadasun\n",
    "\n",
    "## 1.1 Data Cleaning and EDA \n",
    "\n",
    "---"
   ]
  },
  {
   "cell_type": "markdown",
   "id": "9d1e0b00-a226-461e-b3c6-c7329b4ced98",
   "metadata": {
    "tags": []
   },
   "source": [
    "### 1.1.1 Introduction\n",
    "\n",
    "\n"
   ]
  },
  {
   "cell_type": "markdown",
   "id": "947459e1-db70-4f5a-adef-ed53309676e4",
   "metadata": {},
   "source": [
    "In this section, the project will detail the process of acquiring and preparing the data for our movie recommendation system. This includes data gathering, cleaning, and conducting exploratory data analysis."
   ]
  },
  {
   "cell_type": "markdown",
   "id": "64b1cb49-cab1-408c-a453-e88b0b5eaae7",
   "metadata": {},
   "source": [
    "**Deliverables:**\n",
    "- Retrieve movie data from TMDB API, ensuring comprehensive coverage of movie details.\n",
    "- Validate the integrity of the dataset to avoid missing or incomplete information.\n",
    "- Handle any API rate limitations, ensuring a smooth and ethical interaction with the TMDB API."
   ]
  },
  {
   "cell_type": "markdown",
   "id": "807e73ff-698d-487b-af0d-89a2c87c6dc4",
   "metadata": {},
   "source": [
    "---\n",
    "\n",
    "#### Imports"
   ]
  },
  {
   "cell_type": "code",
   "execution_count": 6,
   "id": "baa0e127-4935-43f9-aa0b-a1a2b517a735",
   "metadata": {
    "tags": []
   },
   "outputs": [
    {
     "name": "stdout",
     "output_type": "stream",
     "text": [
      "Collecting tmdbsimple\n",
      "  Downloading tmdbsimple-2.9.1-py3-none-any.whl (38 kB)\n",
      "Requirement already satisfied: requests in /Users/aamad_000/anaconda3/lib/python3.11/site-packages (from tmdbsimple) (2.31.0)\n",
      "Requirement already satisfied: charset-normalizer<4,>=2 in /Users/aamad_000/anaconda3/lib/python3.11/site-packages (from requests->tmdbsimple) (2.0.4)\n",
      "Requirement already satisfied: idna<4,>=2.5 in /Users/aamad_000/anaconda3/lib/python3.11/site-packages (from requests->tmdbsimple) (3.4)\n",
      "Requirement already satisfied: urllib3<3,>=1.21.1 in /Users/aamad_000/anaconda3/lib/python3.11/site-packages (from requests->tmdbsimple) (1.26.16)\n",
      "Requirement already satisfied: certifi>=2017.4.17 in /Users/aamad_000/anaconda3/lib/python3.11/site-packages (from requests->tmdbsimple) (2023.11.17)\n",
      "Installing collected packages: tmdbsimple\n",
      "Successfully installed tmdbsimple-2.9.1\n",
      "Note: you may need to restart the kernel to use updated packages.\n"
     ]
    }
   ],
   "source": [
    "#pip install tmdbsimple"
   ]
  },
  {
   "cell_type": "code",
   "execution_count": 7,
   "id": "02cfb586-7418-494e-9398-e3aa50f7f3b3",
   "metadata": {
    "tags": []
   },
   "outputs": [],
   "source": [
    "import pandas as pd\n",
    "import matplotlib.pyplot as plt\n",
    "import numpy as np\n",
    "import seaborn as sns\n",
    "\n",
    "import requests\n",
    "import time\n",
    "\n",
    "import getpass\n",
    "import tmdbsimple as tmdb\n",
    "\n",
    "#for transaction log\n",
    "import datetime\n",
    "import json"
   ]
  },
  {
   "cell_type": "markdown",
   "id": "8495dd37-63a4-4720-83d1-748584aae130",
   "metadata": {},
   "source": [
    "### 1.1.2 Data Collection\n",
    "\n",
    "We use the TMDB API to collect comprehensive movie data, ensuring a diverse and representative dataset for our recommendation system.\n",
    "\n",
    "---"
   ]
  },
  {
   "cell_type": "code",
   "execution_count": null,
   "id": "50fae1df-08b2-4480-bf24-561459fc1350",
   "metadata": {},
   "outputs": [],
   "source": []
  },
  {
   "cell_type": "code",
   "execution_count": null,
   "id": "2b219bf1-7954-4fff-aa3c-7513245d493b",
   "metadata": {},
   "outputs": [],
   "source": []
  },
  {
   "cell_type": "code",
   "execution_count": null,
   "id": "25051c7a-0d99-41ad-8ce3-fae22ff36af5",
   "metadata": {},
   "outputs": [],
   "source": []
  },
  {
   "cell_type": "code",
   "execution_count": null,
   "id": "f56bb2ba-20a5-46e3-9253-8eb3e02e102d",
   "metadata": {},
   "outputs": [],
   "source": []
  },
  {
   "cell_type": "code",
   "execution_count": null,
   "id": "0ac49979-6e53-4f0e-ad5a-ebd4774c6447",
   "metadata": {},
   "outputs": [],
   "source": []
  },
  {
   "cell_type": "markdown",
   "id": "7f78c155-d698-4759-b97d-c8da78f415cd",
   "metadata": {
    "tags": []
   },
   "source": [
    "### 1.1.3 Data Cleaning\n",
    "\n",
    "---"
   ]
  },
  {
   "cell_type": "code",
   "execution_count": null,
   "id": "9fadc304-60f7-4385-9abc-7f13a19fd815",
   "metadata": {},
   "outputs": [],
   "source": []
  },
  {
   "cell_type": "code",
   "execution_count": null,
   "id": "bf4d7180-ea46-44b6-ac3b-1a55b8c52afd",
   "metadata": {},
   "outputs": [],
   "source": []
  },
  {
   "cell_type": "code",
   "execution_count": null,
   "id": "2171081b-93a6-4f03-bd4e-809d42342857",
   "metadata": {},
   "outputs": [],
   "source": []
  },
  {
   "cell_type": "code",
   "execution_count": null,
   "id": "05a014bf-423f-4a5d-b0c8-e487cf3d9553",
   "metadata": {},
   "outputs": [],
   "source": []
  },
  {
   "cell_type": "code",
   "execution_count": null,
   "id": "97a8a09a-8cab-4ffa-8d46-b41c0598302a",
   "metadata": {},
   "outputs": [],
   "source": []
  },
  {
   "cell_type": "markdown",
   "id": "5eb21acd-2764-4cfc-b280-2ed2db08cece",
   "metadata": {},
   "source": [
    "### 1.1.4 EDA\n",
    "\n",
    "---"
   ]
  },
  {
   "cell_type": "code",
   "execution_count": null,
   "id": "cb24271a-42f3-4a75-9ae1-8aff3a1fea97",
   "metadata": {
    "tags": []
   },
   "outputs": [],
   "source": []
  },
  {
   "cell_type": "code",
   "execution_count": null,
   "id": "74662a89-9355-4575-966b-83e359e4e831",
   "metadata": {},
   "outputs": [],
   "source": []
  },
  {
   "cell_type": "code",
   "execution_count": null,
   "id": "80746ea0-37f4-48a6-92ed-9156396454e3",
   "metadata": {},
   "outputs": [],
   "source": []
  },
  {
   "cell_type": "code",
   "execution_count": null,
   "id": "26bc4c4d-3010-4641-93d0-41227c95dbb8",
   "metadata": {},
   "outputs": [],
   "source": []
  },
  {
   "cell_type": "code",
   "execution_count": null,
   "id": "2ed66b5c-2818-4b66-9a50-56d6bf363b5a",
   "metadata": {},
   "outputs": [],
   "source": []
  }
 ],
 "metadata": {
  "kernelspec": {
   "display_name": "Python 3 (ipykernel)",
   "language": "python",
   "name": "python3"
  },
  "language_info": {
   "codemirror_mode": {
    "name": "ipython",
    "version": 3
   },
   "file_extension": ".py",
   "mimetype": "text/x-python",
   "name": "python",
   "nbconvert_exporter": "python",
   "pygments_lexer": "ipython3",
   "version": "3.11.5"
  }
 },
 "nbformat": 4,
 "nbformat_minor": 5
}
